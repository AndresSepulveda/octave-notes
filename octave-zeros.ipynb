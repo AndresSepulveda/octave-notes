{
 "cells": [
  {
   "cell_type": "markdown",
   "metadata": {
    "collapsed": true,
    "deletable": true,
    "editable": true
   },
   "source": [
    "# Root Finding\n",
    "\n",
    "Root finding is the problem of solving nonlinear equations.\n",
    "\n",
    "Learning objectives:\n",
    " - bisection method\n",
    " - secant method and inverse quadratic interpolation\n",
    " - MATLAB function `fzero`"
   ]
  },
  {
   "cell_type": "markdown",
   "metadata": {
    "deletable": true,
    "editable": true
   },
   "source": [
    "## Finding Roots Algebraically\n",
    "\n",
    "It is easy to solve a quadratic equation using the quadratic formula by hand. For low-degree polynomials, we can do it using a computer algebraic system, such as the Symbolic toolkit."
   ]
  },
  {
   "cell_type": "code",
   "execution_count": null,
   "metadata": {
    "collapsed": false,
    "deletable": true,
    "editable": true
   },
   "outputs": [],
   "source": [
    "% Initialize the Octave symbolic package. Not needed in MATLAB\n",
    "pkg load symbolic;\n",
    "sym;"
   ]
  },
  {
   "cell_type": "code",
   "execution_count": null,
   "metadata": {
    "collapsed": false,
    "deletable": true,
    "editable": true
   },
   "outputs": [],
   "source": [
    "% Construct a general quadratic equation\n",
    "syms a b c x\n",
    "\n",
    "P = a*x^2 + b*x + c;\n",
    "pretty(P)"
   ]
  },
  {
   "cell_type": "code",
   "execution_count": null,
   "metadata": {
    "collapsed": false,
    "deletable": true,
    "editable": true
   },
   "outputs": [],
   "source": [
    "% Solve it algebraically\n",
    "pretty(simplify(solve(P == 0, x)))"
   ]
  },
  {
   "cell_type": "markdown",
   "metadata": {
    "deletable": true,
    "editable": true
   },
   "source": [
    "We can also solve cubic equations algebraically."
   ]
  },
  {
   "cell_type": "code",
   "execution_count": null,
   "metadata": {
    "collapsed": false,
    "deletable": true,
    "editable": true
   },
   "outputs": [],
   "source": [
    "P = 2*x^3 - 3*x^2 - 11 * x - 6;\n",
    "pretty(P)"
   ]
  },
  {
   "cell_type": "code",
   "execution_count": null,
   "metadata": {
    "collapsed": false,
    "deletable": true,
    "editable": true
   },
   "outputs": [],
   "source": [
    "pretty(solve(P==0, x))"
   ]
  },
  {
   "cell_type": "markdown",
   "metadata": {
    "deletable": true,
    "editable": true
   },
   "source": [
    "The roots are the intersections of the graph of the function with the $x$ axis."
   ]
  },
  {
   "cell_type": "code",
   "execution_count": null,
   "metadata": {
    "collapsed": false,
    "deletable": true,
    "editable": true
   },
   "outputs": [],
   "source": [
    "xs = -2:0.01:4;\n",
    "plot(xs, 2*xs.^3 - 3*xs.^2 - 11 * xs - 6, '-', [-2,4], zeros(2,1), '--')"
   ]
  },
  {
   "cell_type": "markdown",
   "metadata": {
    "deletable": true,
    "editable": true
   },
   "source": [
    "However, our luck runs out pretty quickly. Symbolic packages cannot find a root for the following problem:"
   ]
  },
  {
   "cell_type": "code",
   "execution_count": null,
   "metadata": {
    "collapsed": false,
    "deletable": true,
    "editable": true
   },
   "outputs": [],
   "source": [
    "P = 2*x^6 - 3*x^2 - 11 * x - 6;\n",
    "pretty(P)"
   ]
  },
  {
   "cell_type": "code",
   "execution_count": null,
   "metadata": {
    "collapsed": false,
    "deletable": true,
    "editable": true
   },
   "outputs": [],
   "source": [
    "solve(P == 0, x)"
   ]
  },
  {
   "cell_type": "markdown",
   "metadata": {
    "deletable": true,
    "editable": true
   },
   "source": [
    "This is not a bug in the symbolic packages. It was proven by Niels Henrik Abel in 1824 that there is no algebraic solution — that is, solution in radicals — to the general polynomial equations of degree five or higher with arbitrary coefficients.\n",
    "\n",
    "However, there is clearly a solution between -1 and 0, and we can find it using numerical methods."
   ]
  },
  {
   "cell_type": "code",
   "execution_count": null,
   "metadata": {
    "collapsed": false,
    "deletable": true,
    "editable": true
   },
   "outputs": [],
   "source": [
    "xs = -1:0.01:0;\n",
    "plot(xs, 2*xs.^6 - 3*xs.^2 - 11 * xs - 6, '-', [-1,0], zeros(2,1), '--');"
   ]
  },
  {
   "cell_type": "markdown",
   "metadata": {
    "deletable": true,
    "editable": true
   },
   "source": [
    "## Bisection Method\n",
    "\n",
    "The bisection method begins with an initial bracket and repeatedly halves its length until the solution has been isolated as accurately as desired."
   ]
  },
  {
   "cell_type": "code",
   "execution_count": null,
   "metadata": {
    "collapsed": false,
    "deletable": true,
    "editable": true
   },
   "outputs": [],
   "source": [
    "%bisection method for solving 2*x^6 - 3*x^2 - 11 * x - 6 = 0\n",
    "\n",
    "a = -1;\n",
    "b = 0;\n",
    "k = 0;\n",
    "\n",
    "tol = 1e-3\n",
    "\n",
    "while b-a > tol\n",
    "    x = (a + b) / 2;\n",
    "    % Here, we always have func(a)>=0 and func(b)<0\n",
    "    if 2*x^6 - 3*x^2 - 11 * x - 6 < 0\n",
    "        b = x;\n",
    "    else\n",
    "        a = x;\n",
    "    end\n",
    "    k = k + 1;\n",
    "\n",
    "    fprintf('k = %2d, a = %.10f, b = %.10f, (b-a)=%.10f\\n', k, a, b, b-a);\n",
    "end\n",
    "\n",
    "fprintf('x = %.16g after %d iterations\\n', x, k);"
   ]
  },
  {
   "cell_type": "markdown",
   "metadata": {
    "deletable": true,
    "editable": true
   },
   "source": [
    "The above example is specialized to the example function. To make the method applicable to functions, we can define a MATLAB function, which takes a [function handle](https://www.mathworks.com/help/matlab/matlab_prog/creating-a-function-handle.html) as an input argument."
   ]
  },
  {
   "cell_type": "code",
   "execution_count": null,
   "metadata": {
    "collapsed": false,
    "deletable": true,
    "editable": true
   },
   "outputs": [],
   "source": [
    "function [x, k] = bisect(f, a, b, tol)\n",
    "% BISECT finds a root of f(x) within the interval [a,b] \n",
    "% using the bisection method. It assumes f(a) and f(b) have \n",
    "% opposite signs.\n",
    "\n",
    "k = 0;\n",
    "fb = f(b); s = sign(fb);\n",
    "\n",
    "if nargin<4; tol = eps*abs(b-a); end\n",
    "\n",
    "while b-a > tol\n",
    "    x = (a + b)/2;\n",
    "    if sign(f(x)) == s\n",
    "        b = x;\n",
    "    else\n",
    "        a = x;\n",
    "    end\n",
    "    k = k + 1;\n",
    "end\n",
    "end"
   ]
  },
  {
   "cell_type": "markdown",
   "metadata": {
    "deletable": true,
    "editable": true
   },
   "source": [
    "In MATLAB, you need to save the above function definition into an M-file named `bisect.m`. \n",
    "\n",
    "To call `bisect`, we can use [anonymous functions](https://www.mathworks.com/help/matlab/matlab_prog/anonymous-functions.html), which are similar to the [lambda functions in Python](https://docs.python.org/3/tutorial/controlflow.html#lambda-expressions)."
   ]
  },
  {
   "cell_type": "code",
   "execution_count": null,
   "metadata": {
    "collapsed": false,
    "deletable": true,
    "editable": true
   },
   "outputs": [],
   "source": [
    "% We define an anonymous function\n",
    "f = @(x) 2*x^6 - 3*x^2 - 11 * x - 6;\n",
    "\n",
    "[x, k] = bisect(f, -1, 0);\n",
    "fprintf('x=%.16g after %d iterations, and f(x) is %.16g\\n', x, k, f(x));"
   ]
  },
  {
   "cell_type": "code",
   "execution_count": null,
   "metadata": {
    "collapsed": false,
    "deletable": true,
    "editable": true
   },
   "outputs": [],
   "source": [
    "% We can also use function handles to regular functions\n",
    "f = @sin;\n",
    "[x, k] = bisect(f, -1, 1);\n",
    "fprintf('x=%.16g after %d iterations, and f(x) is %.16g\\n', x, k, f(x));"
   ]
  },
  {
   "cell_type": "markdown",
   "metadata": {
    "deletable": true,
    "editable": true
   },
   "source": [
    "Bisection is completely reliable, as long as $f(a)$ and $f(b)$ have opposite signs. However, it is quite slow. With the termination condition in the above code, it always takes 52 steps for any function to reach machine precision when using double-precision floating-point numbers."
   ]
  },
  {
   "cell_type": "markdown",
   "metadata": {
    "deletable": true,
    "editable": true
   },
   "source": [
    "## Secant Method\n",
    "\n",
    "Similar to the bisection method, the secant method uses two data points to determine a third one at each step. However, it uses not only the signs but also the values to draw a secant line through two points.\n",
    "<img src=\"https://drive.google.com/uc?export=download&id=0ByTwsK5_Tl_Pc2gtOGtjNXYzY2s\" width=\"400\">\n",
    "\n",
    "The slope of the scant is given by\n",
    "$$s_k = \\frac{f(x_k)-f(x_{k-1})}{x_k-x_{k-1}}.$$\n",
    "The intersection of the secant with the $x$ axis is then\n",
    "$$x_{k+1} = x_k - \\frac{f(x_k)}{s_k} = x_k + \\frac{x_k-x_{k-1}}{f(x_{k-1}) / f(x_k) - 1}.$$\n",
    "\n",
    "The secant method can be implemented as follows:"
   ]
  },
  {
   "cell_type": "code",
   "execution_count": null,
   "metadata": {
    "collapsed": false,
    "deletable": true,
    "editable": true
   },
   "outputs": [],
   "source": [
    "function [x, k] = secant(f, ab, tol)\n",
    "% SECANT finds a root of f(x) using the secant method.\n",
    "\n",
    "if nargin<3; tol = eps; end\n",
    "\n",
    "a = ab(1); b = ab(2);\n",
    "maxiter = 100;\n",
    "fa = f(a);\n",
    "\n",
    "for k = 1:maxiter\n",
    "    % x = b + (b - a)/(f(a)/f(b)-1);\n",
    "    % a = b; \n",
    "    % b = x;\n",
    "\n",
    "    fb = f(b);\n",
    "    if fb == 0; x = b; break; end\n",
    "    delta = (b - a)/(fa/fb-1);\n",
    "    x = b + delta;\n",
    "\n",
    "    if abs(delta) <= tol*abs(b)\n",
    "        break;\n",
    "    end\n",
    "\n",
    "    a = b; fa = fb;\n",
    "    b = x;\n",
    "end\n",
    "end"
   ]
  },
  {
   "cell_type": "markdown",
   "metadata": {
    "deletable": true,
    "editable": true
   },
   "source": [
    "In MATLAB, you need to save the above function definition into an M-file named `secant.m`."
   ]
  },
  {
   "cell_type": "code",
   "execution_count": null,
   "metadata": {
    "collapsed": false,
    "deletable": true,
    "editable": true
   },
   "outputs": [],
   "source": [
    "f = @(x) 2*x^6 - 3*x^2 - 11 * x - 6;\n",
    "\n",
    "[x, k] = secant(f, [-1, 0]);\n",
    "fprintf('x=%.16g after %d iterations, and f(x) is %.16g\\n', x, k, f(x));"
   ]
  },
  {
   "cell_type": "markdown",
   "metadata": {
    "deletable": true,
    "editable": true
   },
   "source": [
    "Note that we may get different answers with different starting points."
   ]
  },
  {
   "cell_type": "code",
   "execution_count": null,
   "metadata": {
    "collapsed": false,
    "deletable": true,
    "editable": true
   },
   "outputs": [],
   "source": [
    "[x, k] = secant(f, [1, 2]);\n",
    "fprintf('x=%.16g after %d iterations, and f(x) is %.16g\\n', x, k, f(x));"
   ]
  },
  {
   "cell_type": "markdown",
   "metadata": {
    "deletable": true,
    "editable": true
   },
   "source": [
    "Here is another example."
   ]
  },
  {
   "cell_type": "code",
   "execution_count": null,
   "metadata": {
    "collapsed": false,
    "deletable": true,
    "editable": true
   },
   "outputs": [],
   "source": [
    "f = @sin;\n",
    "[x, k] = secant(f, [-1, 0.4]);\n",
    "fprintf('x=%.16g after %d iterations, and f(x) is %.16g\\n', x, k, f(x));"
   ]
  },
  {
   "cell_type": "markdown",
   "metadata": {
    "deletable": true,
    "editable": true
   },
   "source": [
    "The secant method is faster than the bisection method. However, it is less reliable and may fail to converge to a solution.\n",
    "\n",
    "The secant method is also closely related to *Newton’s method*, in which\n",
    "$$x_{k+1} = x_k - \\frac{f(x_k)}{f'(x_k)}.$$\n",
    "<img src=\"https://drive.google.com/uc?export=download&id=0ByTwsK5_Tl_PR21qYmZrN3d0bzg\" width=\"300\">\n",
    "The secant method can be interpreted as using a finite difference approximation to estimate the derivative in Newton's method.\n",
    "\n",
    "The secant method may take more iterations to converge than Newton's method, but it is more efficient per iteration, so in general the secant method is preferred over Newton's method."
   ]
  },
  {
   "cell_type": "markdown",
   "metadata": {
    "deletable": true,
    "editable": true
   },
   "source": [
    "## Inverse Quadratic Interpolation\n",
    "\n",
    "The secant method uses two points to construct a linear polynomial to approximate the function locally. \n",
    "\n",
    "We can use more points to construct higher-degree interpolating polynomials, such as quadratic polynomials, and compute its intersection with the $x$ axis. However, this idea is problematic because a parabola may have zero, one or two intersections with the $x$ axis.\n",
    "\n",
    "The problem can be fixed by constructing a quadratic interpolation of $x$ as a function of $y$. This is a \"sideways\" parabola, and it is guaranteed to intersect the $x$ axis exactly once. This is known as *inverse quadratic interpolation* (IQI).\n",
    "\n",
    "<img src=\"https://drive.google.com/uc?export=download&id=0ByTwsK5_Tl_PbTJIYVppdU1PRW8\" width=\"400\">\n",
    "\n",
    "\n",
    "The following is a high-level MATLAB implementation to illustrate the idea."
   ]
  },
  {
   "cell_type": "code",
   "execution_count": null,
   "metadata": {
    "collapsed": true,
    "deletable": true,
    "editable": true
   },
   "outputs": [],
   "source": [
    "function [x, k] = iqi(f, abc)\n",
    "% IQI finds a root of f(x) using the inverse quadratic interpolation.\n",
    "\n",
    "a = abc(1); b = abc(2); c = abc(3);\n",
    "maxiter = 100;\n",
    "\n",
    "for k = 1:maxiter\n",
    "    x = polyval(polyfit([f(a),f(b),f(c)],[a,b,c], 2), 0);\n",
    "    a = b;\n",
    "    b = c;\n",
    "    c = x;\n",
    "\n",
    "    if abs(c-b) <= eps*abs(c)\n",
    "        break;\n",
    "    end\n",
    "end\n",
    "end"
   ]
  },
  {
   "cell_type": "markdown",
   "metadata": {
    "deletable": true,
    "editable": true
   },
   "source": [
    "In MATLAB, you need to save the above function definition into an M-file named `iqi.m`."
   ]
  },
  {
   "cell_type": "code",
   "execution_count": null,
   "metadata": {
    "collapsed": false,
    "deletable": true,
    "editable": true
   },
   "outputs": [],
   "source": [
    "f = @(x) 2*x^6 - 3*x^2 - 11 * x - 6;\n",
    "\n",
    "[x, k] = iqi(f, [-1, 0.5, 0]);\n",
    "fprintf('x=%.16g after %d iterations, and f(x) is %.16g\\n', x, k, f(x));"
   ]
  },
  {
   "cell_type": "markdown",
   "metadata": {
    "deletable": true,
    "editable": true
   },
   "source": [
    "Similarly, one can also use inverse cubic interpolation (ICI).\n",
    "\n",
    "Like the secant method, IQI and ICI may both fail to converge."
   ]
  },
  {
   "cell_type": "markdown",
   "metadata": {
    "deletable": true,
    "editable": true
   },
   "source": [
    "## Hybrid Method for Efficiency and Robustness "
   ]
  },
  {
   "cell_type": "markdown",
   "metadata": {
    "deletable": true,
    "editable": true
   },
   "source": [
    "Bisection method is robust but slow, and IQI, ICI etc. are faster but less robust. It is a good idea to combine them together to deliver both efficiency and robustness. This is the idea behind the `fzero` function in MATLAB. The following is a simplified implementation."
   ]
  },
  {
   "cell_type": "code",
   "execution_count": null,
   "metadata": {
    "collapsed": false,
    "deletable": true,
    "editable": true
   },
   "outputs": [],
   "source": [
    "function b = fzerotx(F,ab,varargin)\n",
    "%FZEROTX  Textbook version of FZERO.\n",
    "%   x = fzerotx(F,[a,b]) tries to find a zero of F(x) between a and b.\n",
    "%   F(a) and F(b) must have opposite signs.  fzerotx returns one \n",
    "%   end point of a small subinterval of [a,b] where F changes sign.\n",
    "%   Arguments beyond the first two, fzerotx(F,[a,b],p1,p2,...),\n",
    "%   are passed on, F(x,p1,p2,..).\n",
    "%\n",
    "%   Examples:\n",
    "%      fzerotx(@sin,[1,4])\n",
    "%      F = @(x) sin(x); fzerotx(F,[1,4])\n",
    "\n",
    "%   Copyright 2014 Cleve Moler\n",
    "%   Copyright 2014 The MathWorks, Inc.\n",
    "\n",
    "%% The first section of code initializes the variables a, b, and c \n",
    "%% that characterize the search interval. The function F is evaluated \n",
    "%% at the endpoints of the initial interval.\n",
    "% Initialize.\n",
    "a = ab(1);\n",
    "b = ab(2);\n",
    "fa = F(a,varargin{:});\n",
    "fb = F(b,varargin{:});\n",
    "if sign(fa) == sign(fb)\n",
    "   error('Function must change sign on the interval')\n",
    "end\n",
    "c = a;\n",
    "fc = fa;\n",
    "d = b - c;\n",
    "e = d;\n",
    "\n",
    "%% Here is the beginning of the main loop. At the start of each pass \n",
    "%% through the loop, a, b, and c are rearranged so that f(a) and f(b)\n",
    "%% have opposite signs, |f(b)| <= |f(a)|, and c is the previous value of b.\n",
    "while fb ~= 0\n",
    "\n",
    "   % The three current points, a, b, and c, satisfy:\n",
    "   %    f(x) changes sign between a and b.\n",
    "   %    abs(f(b)) <= abs(f(a)).\n",
    "   %    c = previous b, so c might = a.\n",
    "   % The next point is chosen from\n",
    "   %    Bisection point, (a+b)/2.\n",
    "   %    Secant point determined by b and c.\n",
    "   %    Inverse quadratic interpolation point determined\n",
    "   %    by a, b, and c if they are distinct.\n",
    "\n",
    "   if sign(fa) == sign(fb)\n",
    "      a = c;  fa = fc;\n",
    "      d = b - c;  e = d;\n",
    "   end\n",
    "   if abs(fa) < abs(fb)\n",
    "      c = b;    b = a;    a = c;\n",
    "      fc = fb;  fb = fa;  fa = fc;\n",
    "   end\n",
    "   \n",
    "   % Convergence test and possible exit\n",
    "   m = 0.5*(a - b);\n",
    "   tol = 2.0*eps*max(abs(b),1.0);\n",
    "   if (abs(m) <= tol) | (fb == 0.0)\n",
    "      break\n",
    "   end\n",
    "   \n",
    "   % Choose bisection or interpolation\n",
    "   if (abs(e) < tol) | (abs(fc) <= abs(fb))\n",
    "      % Bisection\n",
    "      d = m;\n",
    "      e = m;\n",
    "   else\n",
    "      % Interpolation\n",
    "      s = fb/fc;\n",
    "      if (a == c)\n",
    "         % Linear interpolation (secant)\n",
    "         p = 2.0*m*s;\n",
    "         q = 1.0 - s;\n",
    "      else\n",
    "         % Inverse quadratic interpolation\n",
    "         q = fc/fa;\n",
    "         r = fb/fa;\n",
    "         p = s*(2.0*m*q*(q - r) - (b - c)*(r - 1.0));\n",
    "         q = (q - 1.0)*(r - 1.0)*(s - 1.0);\n",
    "      end;\n",
    "      if p > 0, q = -q; else p = -p; end;\n",
    "      % Is interpolated point acceptable\n",
    "      if (2.0*p < 3.0*m*q - abs(tol*q)) & (p < abs(0.5*e*q))\n",
    "         e = d;\n",
    "         d = p/q;\n",
    "      else\n",
    "         d = m;\n",
    "         e = m;\n",
    "      end;\n",
    "   end\n",
    "   \n",
    "   % Next point\n",
    "   %% The final section evaluates F at the next iterate.\n",
    "   c = b;\n",
    "   fc = fb;\n",
    "   if abs(d) > tol\n",
    "      b = b + d;\n",
    "   else\n",
    "      b = b - sign(b-a)*tol;\n",
    "   end\n",
    "   fb = F(b,varargin{:});\n",
    "end\n",
    "end"
   ]
  },
  {
   "cell_type": "markdown",
   "metadata": {
    "deletable": true,
    "editable": true
   },
   "source": [
    "In MATLAB, you need to save the above function definition into an M-file named `fzerotx.m`."
   ]
  },
  {
   "cell_type": "code",
   "execution_count": null,
   "metadata": {
    "collapsed": false,
    "deletable": true,
    "editable": true
   },
   "outputs": [],
   "source": [
    "f = @(x) 2*x^6 - 3*x^2 - 11 * x - 6;\n",
    "\n",
    "x = fzerotx(f, [-1, 0]);\n",
    "fprintf('x=%.16g and f(x) is %.16g\\n', x, f(x));"
   ]
  },
  {
   "cell_type": "markdown",
   "metadata": {
    "deletable": true,
    "editable": true
   },
   "source": [
    "Acknowledgment: The material in this Notebook was adapted from Chapter 4 of Numerical Computing with MATLAB by Cleve Moler, 2004."
   ]
  }
 ],
 "metadata": {
  "kernelspec": {
   "display_name": "Octave",
   "language": "octave",
   "name": "octave"
  },
  "language_info": {
   "file_extension": ".m",
   "help_links": [
    {
     "text": "GNU Octave",
     "url": "https://www.gnu.org/software/octave/support.html"
    },
    {
     "text": "Octave Kernel",
     "url": "https://github.com/Calysto/octave_kernel"
    },
    {
     "text": "MetaKernel Magics",
     "url": "https://github.com/calysto/metakernel/blob/master/metakernel/magics/README.md"
    }
   ],
   "mimetype": "text/x-octave",
   "name": "octave",
   "version": "4.0.0"
  },
  "latex_envs": {
   "LaTeX_envs_menu_present": true,
   "autocomplete": true,
   "bibliofile": "biblio.bib",
   "cite_by": "apalike",
   "current_citInitial": 1,
   "eqLabelWithNumbers": true,
   "eqNumInitial": 1,
   "hotkeys": {
    "equation": "Ctrl-E",
    "itemize": "Ctrl-I"
   },
   "labels_anchors": false,
   "latex_user_defs": false,
   "report_style_numbering": false,
   "user_envs_cfg": false
  }
 },
 "nbformat": 4,
 "nbformat_minor": 2
}
