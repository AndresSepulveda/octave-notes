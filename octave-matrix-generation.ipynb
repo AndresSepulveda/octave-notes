{
 "cells": [
  {
   "cell_type": "markdown",
   "metadata": {},
   "source": [
    "# Matrix Generation and Indexing in MATLAB\n",
    "\n",
    "A matrix is a two-dimensional array consisting of $m$ rows and $n$ columns. Matrices are the basic elements in MATLAB. \n",
    "\n",
    "Learning objectives:\n",
    " - Entering a matrix\n",
    " - The colon operator\n",
    " - Indexing into a matrix\n",
    " - Creating a submatrix\n",
    " - Deleting rows/columns\n",
    " - Matrix and array operations"
   ]
  },
  {
   "cell_type": "markdown",
   "metadata": {},
   "source": [
    "## Entering a vector\n",
    "\n",
    "A vector is a special case of a matrix. An array of dimension $1 \\times n$ is called a *row vector*, whereas an array of dimension $m \\times 1$ is called a *column vector*. The elements of vectors in MATLAB are enclosed by square brackets and are separated by spaces or by commas. For example, to enter a row vector, $v$:"
   ]
  },
  {
   "cell_type": "code",
   "execution_count": 1,
   "metadata": {},
   "outputs": [
    {
     "name": "stdout",
     "output_type": "stream",
     "text": [
      "v =\n",
      "\n",
      "    1    4    7   10   13\n",
      "\n"
     ]
    }
   ],
   "source": [
    "v = [1 4 7 10 13]"
   ]
  },
  {
   "cell_type": "markdown",
   "metadata": {},
   "source": [
    "Column vectors are created in a similar way, however, semicolon ';' must separate the\n",
    "components of a column vector:"
   ]
  },
  {
   "cell_type": "code",
   "execution_count": 2,
   "metadata": {},
   "outputs": [
    {
     "name": "stdout",
     "output_type": "stream",
     "text": [
      "w =\n",
      "\n",
      "    1\n",
      "    4\n",
      "    7\n",
      "   10\n",
      "   13\n",
      "\n"
     ]
    }
   ],
   "source": [
    "w = [1; 4; 7; 10; 13]"
   ]
  },
  {
   "cell_type": "markdown",
   "metadata": {},
   "source": [
    "A row vector is converted to a column vector using the *transpose operator*, is denoted by an apostrophe or a single quote (’)."
   ]
  },
  {
   "cell_type": "code",
   "execution_count": 3,
   "metadata": {},
   "outputs": [
    {
     "name": "stdout",
     "output_type": "stream",
     "text": [
      "w =\n",
      "\n",
      "    1\n",
      "    4\n",
      "    7\n",
      "   10\n",
      "   13\n",
      "\n"
     ]
    }
   ],
   "source": [
    "w = v'"
   ]
  },
  {
   "cell_type": "markdown",
   "metadata": {},
   "source": [
    "We can use parentheses to access the values in a vector:"
   ]
  },
  {
   "cell_type": "code",
   "execution_count": 4,
   "metadata": {},
   "outputs": [
    {
     "name": "stdout",
     "output_type": "stream",
     "text": [
      "ans =  1\n",
      "ans =  4\n"
     ]
    }
   ],
   "source": [
    "w(1), w(2)"
   ]
  },
  {
   "cell_type": "markdown",
   "metadata": {},
   "source": [
    "Note that the indices in MATLAB start from 1, unlike Python, in which indices start from 0."
   ]
  },
  {
   "cell_type": "markdown",
   "metadata": {},
   "source": [
    "## The colon operator\n",
    "\n",
    "The colon operator will prove very useful and understanding how it works is the key to efficient and convenient usage of MATLAB. It occurs in several different forms.\n",
    "\n",
    "Often we must deal with matrices or vectors that are too large to enter one element at a time. For example, suppose we want to enter a vector x consisting of points (0, 0.1, 0.2, 0.3, · · · , 5). We can use the command"
   ]
  },
  {
   "cell_type": "code",
   "execution_count": 5,
   "metadata": {},
   "outputs": [
    {
     "name": "stdout",
     "output_type": "stream",
     "text": [
      "ans =\n",
      "\n",
      "    1   51\n",
      "\n"
     ]
    }
   ],
   "source": [
    "x = 0:0.1:5;\n",
    "size(x)"
   ]
  },
  {
   "cell_type": "markdown",
   "metadata": {},
   "source": [
    "This produces a row vector with 51 elements.\n",
    "\n",
    "If the mid-value is omitted, then it is treated as 1."
   ]
  },
  {
   "cell_type": "code",
   "execution_count": 6,
   "metadata": {},
   "outputs": [
    {
     "name": "stdout",
     "output_type": "stream",
     "text": [
      "x =\n",
      "\n",
      "   5   4   3   2   1   0\n",
      "\n"
     ]
    }
   ],
   "source": [
    "x = 5:-1:0"
   ]
  },
  {
   "cell_type": "markdown",
   "metadata": {},
   "source": [
    "The colon operator is very useful in indexing arrays."
   ]
  },
  {
   "cell_type": "code",
   "execution_count": 7,
   "metadata": {},
   "outputs": [
    {
     "name": "stdout",
     "output_type": "stream",
     "text": [
      "ans =\n",
      "\n",
      "   1   4   7\n",
      "\n"
     ]
    }
   ],
   "source": [
    "v(1:3)"
   ]
  },
  {
   "cell_type": "markdown",
   "metadata": {},
   "source": [
    "The number before ':' is the first index to extract, and the number after ':' is the last index to extract. This is different from the semantics of the `range` function in Python.\n",
    "\n",
    "All elements from the third through the last elements:"
   ]
  },
  {
   "cell_type": "code",
   "execution_count": 8,
   "metadata": {},
   "outputs": [
    {
     "name": "stdout",
     "output_type": "stream",
     "text": [
      "ans =\n",
      "\n",
      "    7\n",
      "   10\n",
      "   13\n",
      "\n"
     ]
    }
   ],
   "source": [
    "w(3:end)"
   ]
  },
  {
   "cell_type": "markdown",
   "metadata": {},
   "source": [
    "where `end` signifies the last element in the vector. Note that"
   ]
  },
  {
   "cell_type": "code",
   "execution_count": 9,
   "metadata": {},
   "outputs": [
    {
     "name": "stdout",
     "output_type": "stream",
     "text": [
      "ans =\n",
      "\n",
      "    1    4    7   10   13\n",
      "\n"
     ]
    }
   ],
   "source": [
    "v(1:end)"
   ]
  },
  {
   "cell_type": "markdown",
   "metadata": {},
   "source": [
    "produces a row vector (since $v$ is a row vector). However,"
   ]
  },
  {
   "cell_type": "code",
   "execution_count": 10,
   "metadata": {},
   "outputs": [
    {
     "name": "stdout",
     "output_type": "stream",
     "text": [
      "ans =\n",
      "\n",
      "    1\n",
      "    4\n",
      "    7\n",
      "   10\n",
      "   13\n",
      "\n"
     ]
    }
   ],
   "source": [
    "v(:)"
   ]
  },
  {
   "cell_type": "markdown",
   "metadata": {},
   "source": [
    "always produces a column vector, regardless whether $v$ is a row or column vector."
   ]
  },
  {
   "cell_type": "markdown",
   "metadata": {},
   "source": [
    "## Entering a matrix\n",
    "\n",
    "A matrix is a two-dimensional array of numbers. To type a matrix into MATLAB you must\n",
    " - begin with a square bracket, '['\n",
    " - separate elements in a row with spaces or commas ','\n",
    " - use a semicolon ';' to separate rows\n",
    " - end the matrix with another square bracket ']'.\n",
    " \n",
    "For example, to enter a matrix \n",
    "$A = \\left[\\begin{array}{ccc}\n",
    "1 & 2 & 3\\\\\n",
    "4 & 5 & 6\\\\\n",
    "7 & 8 & 9\n",
    "\\end{array}\\right]:$"
   ]
  },
  {
   "cell_type": "code",
   "execution_count": 11,
   "metadata": {
    "scrolled": true
   },
   "outputs": [
    {
     "name": "stdout",
     "output_type": "stream",
     "text": [
      "A =\n",
      "\n",
      "   1   2   3\n",
      "   4   5   6\n",
      "   7   8   9\n",
      "\n"
     ]
    }
   ],
   "source": [
    "A = [1 2 3; 4 5 6; 7 8 9]"
   ]
  },
  {
   "cell_type": "markdown",
   "metadata": {},
   "source": [
    "## Matrix indexing\n",
    "\n",
    "The element of row $i$ and column $j$ of the matrix $A$ is denoted by A(i,j). For example,"
   ]
  },
  {
   "cell_type": "code",
   "execution_count": 12,
   "metadata": {},
   "outputs": [
    {
     "name": "stdout",
     "output_type": "stream",
     "text": [
      "ans =  4\n"
     ]
    }
   ],
   "source": [
    "A(2,1)"
   ]
  },
  {
   "cell_type": "markdown",
   "metadata": {},
   "source": [
    "We can also modify the value of an entry through index. For example,"
   ]
  },
  {
   "cell_type": "code",
   "execution_count": 13,
   "metadata": {},
   "outputs": [
    {
     "name": "stdout",
     "output_type": "stream",
     "text": [
      "A =\n",
      "\n",
      "   1   2   3\n",
      "   4   5   6\n",
      "   7   8   0\n",
      "\n"
     ]
    }
   ],
   "source": [
    "A(3,3) = 0;\n",
    "A"
   ]
  },
  {
   "cell_type": "markdown",
   "metadata": {},
   "source": [
    "A matrix can also be indexed using a single index. In this case, the matrix is treated as one-dimensional array, mapped from the 2-D array in a column-by-column manner."
   ]
  },
  {
   "cell_type": "code",
   "execution_count": 14,
   "metadata": {},
   "outputs": [
    {
     "name": "stdout",
     "output_type": "stream",
     "text": [
      "ans =  2\n"
     ]
    }
   ],
   "source": [
    "A(4)"
   ]
  },
  {
   "cell_type": "markdown",
   "metadata": {},
   "source": [
    "## Creating a sub-matrix\n",
    "\n",
    "To extract a `submatrix` B consisting of rows 2 and 3 and columns 1 and 2 of the matrix $A$, do the following:"
   ]
  },
  {
   "cell_type": "code",
   "execution_count": 15,
   "metadata": {},
   "outputs": [
    {
     "name": "stdout",
     "output_type": "stream",
     "text": [
      "B =\n",
      "\n",
      "   4   5\n",
      "   7   8\n",
      "\n"
     ]
    }
   ],
   "source": [
    "B = A([2 3],[1 2])"
   ]
  },
  {
   "cell_type": "markdown",
   "metadata": {},
   "source": [
    "The colon operator is also useful to create a sub-matrix. The statement A($a:b,c:d$) specifies rows $a$ to $b$ and column $c$ to $d$. Subscript expressions refer to portions of a matrix. \n",
    "\n",
    "As a special case, a colon (:) as the row or column specifier covers all the entries in that row or column; thus\n",
    " - A(:,$j$) is the $j$th column of A, while \n",
    " - A($i$,:) is the $i$th row, and\n",
    " - A(end,:) picks out the last row of A.\n",
    "\n",
    "For example,"
   ]
  },
  {
   "cell_type": "code",
   "execution_count": 16,
   "metadata": {},
   "outputs": [
    {
     "name": "stdout",
     "output_type": "stream",
     "text": [
      "ans =\n",
      "\n",
      "   4   5   6\n",
      "\n"
     ]
    }
   ],
   "source": [
    "A(2,:)"
   ]
  },
  {
   "cell_type": "markdown",
   "metadata": {},
   "source": [
    "is the second row elements of $A$."
   ]
  },
  {
   "cell_type": "code",
   "execution_count": 17,
   "metadata": {
    "scrolled": true
   },
   "outputs": [
    {
     "name": "stdout",
     "output_type": "stream",
     "text": [
      "ans =\n",
      "\n",
      "   2   3\n",
      "   5   6\n",
      "   8   0\n",
      "\n"
     ]
    }
   ],
   "source": [
    " A(:,2:3)"
   ]
  },
  {
   "cell_type": "markdown",
   "metadata": {},
   "source": [
    "extracts a sub-matrix with the last two columns of A.\n",
    "\n",
    "Note that the assignment of sub-matrix creates a separate matrix from A."
   ]
  },
  {
   "cell_type": "code",
   "execution_count": 18,
   "metadata": {},
   "outputs": [
    {
     "name": "stdout",
     "output_type": "stream",
     "text": [
      "ans =  4\n"
     ]
    }
   ],
   "source": [
    "B = A([2 3],[1 2]);\n",
    "B(1,1) = -1;\n",
    "A(2,1)"
   ]
  },
  {
   "cell_type": "markdown",
   "metadata": {},
   "source": [
    "B and A have different memory. Changing B does not change A. \n",
    "\n",
    "Note that in Python, the slicing into an array behaves differently."
   ]
  },
  {
   "cell_type": "markdown",
   "metadata": {},
   "source": [
    "A(:) converts A into a column vector in a column-by-column manner."
   ]
  },
  {
   "cell_type": "code",
   "execution_count": 19,
   "metadata": {},
   "outputs": [
    {
     "name": "stdout",
     "output_type": "stream",
     "text": [
      "ans =\n",
      "\n",
      "   1   4   7   2   5   8   3   6   0\n",
      "\n"
     ]
    }
   ],
   "source": [
    "reshape(A, 1, 9)"
   ]
  },
  {
   "cell_type": "markdown",
   "metadata": {},
   "source": [
    "## Deleting a row or column\n",
    "\n",
    "A row or a column of a matrix can be deleted by setting it to a null vector, []. For example,"
   ]
  },
  {
   "cell_type": "code",
   "execution_count": 20,
   "metadata": {},
   "outputs": [
    {
     "name": "stdout",
     "output_type": "stream",
     "text": [
      "B =\n",
      "\n",
      "   1   2   3\n",
      "   7   8   0\n",
      "\n"
     ]
    }
   ],
   "source": [
    "B = A;\n",
    "B(2, :)=[];\n",
    "B"
   ]
  },
  {
   "cell_type": "markdown",
   "metadata": {},
   "source": [
    "## Dimension of matrices\n",
    "\n",
    "To determine the *dimensions* of a matrix or vector, use the command `size`. For example,"
   ]
  },
  {
   "cell_type": "code",
   "execution_count": 21,
   "metadata": {},
   "outputs": [
    {
     "name": "stdout",
     "output_type": "stream",
     "text": [
      "ans =\n",
      "\n",
      "   3   3\n",
      "\n"
     ]
    }
   ],
   "source": [
    "size(A)"
   ]
  },
  {
   "cell_type": "markdown",
   "metadata": {},
   "source": [
    "or explicitly"
   ]
  },
  {
   "cell_type": "code",
   "execution_count": 22,
   "metadata": {},
   "outputs": [
    {
     "name": "stdout",
     "output_type": "stream",
     "text": [
      "m =  3\n",
      "n =  3\n"
     ]
    }
   ],
   "source": [
    "[m,n]=size(A)"
   ]
  },
  {
   "cell_type": "markdown",
   "metadata": {},
   "source": [
    "We can obtain the numbers of rows and columns by specifying a second argument:"
   ]
  },
  {
   "cell_type": "code",
   "execution_count": 23,
   "metadata": {},
   "outputs": [
    {
     "name": "stdout",
     "output_type": "stream",
     "text": [
      "ans =  2\n",
      "ans =  3\n"
     ]
    }
   ],
   "source": [
    "size(B, 1)\n",
    "size(B, 2)"
   ]
  },
  {
   "cell_type": "markdown",
   "metadata": {},
   "source": [
    "Another way to create a matrix is to use a function, such as `ones`, `zeros`, or `rand`. For example, create a 5-by-1 column vector of `zeros`."
   ]
  },
  {
   "cell_type": "code",
   "execution_count": 24,
   "metadata": {},
   "outputs": [
    {
     "name": "stdout",
     "output_type": "stream",
     "text": [
      "z =\n",
      "\n",
      "   0\n",
      "   0\n",
      "   0\n",
      "   0\n",
      "   0\n",
      "\n"
     ]
    }
   ],
   "source": [
    "z = zeros(5,1)"
   ]
  },
  {
   "cell_type": "markdown",
   "metadata": {},
   "source": [
    "## Matrix and array operations\n",
    "\n",
    "MATLAB allows you to process all of the values in a matrix using a single arithmetic operator or function."
   ]
  },
  {
   "cell_type": "code",
   "execution_count": 25,
   "metadata": {},
   "outputs": [
    {
     "name": "stdout",
     "output_type": "stream",
     "text": [
      "ans =\n",
      "\n",
      "   11   12   13\n",
      "   14   15   16\n",
      "   17   18   10\n",
      "\n"
     ]
    }
   ],
   "source": [
    "A + 10"
   ]
  },
  {
   "cell_type": "code",
   "execution_count": 26,
   "metadata": {},
   "outputs": [
    {
     "name": "stdout",
     "output_type": "stream",
     "text": [
      "ans =\n",
      "\n",
      "   0.84147   0.90930   0.14112\n",
      "  -0.75680  -0.95892  -0.27942\n",
      "   0.65699   0.98936   0.00000\n",
      "\n"
     ]
    }
   ],
   "source": [
    "sin(A)"
   ]
  },
  {
   "cell_type": "markdown",
   "metadata": {},
   "source": [
    "To transpose a matrix, use a single quote ('):"
   ]
  },
  {
   "cell_type": "code",
   "execution_count": 27,
   "metadata": {},
   "outputs": [
    {
     "name": "stdout",
     "output_type": "stream",
     "text": [
      "ans =\n",
      "\n",
      "   1   4   7\n",
      "   2   5   8\n",
      "   3   6   0\n",
      "\n"
     ]
    }
   ],
   "source": [
    "A'"
   ]
  },
  {
   "cell_type": "markdown",
   "metadata": {},
   "source": [
    "You can perform standard matrix multiplication, which computes the inner products between rows and columns, using the * operator. For example, confirm that a matrix times its inverse returns the identity matrix:"
   ]
  },
  {
   "cell_type": "code",
   "execution_count": 28,
   "metadata": {},
   "outputs": [
    {
     "name": "stdout",
     "output_type": "stream",
     "text": [
      "P =\n",
      "\n",
      "   1.0000e+00   5.5511e-17  -4.1633e-17\n",
      "   5.5511e-17   1.0000e+00  -8.3267e-17\n",
      "   1.7764e-15  -8.8818e-16   1.0000e+00\n",
      "\n"
     ]
    }
   ],
   "source": [
    "P = A * inv(A)"
   ]
  },
  {
   "cell_type": "markdown",
   "metadata": {},
   "source": [
    "Notice that p is not a matrix of integer values. MATLAB stores numbers as floating-point values, and arithmetic operations are sensitive to small differences between the actual value and its floating-point representation. You can display more decimal digits using the format command:"
   ]
  },
  {
   "cell_type": "code",
   "execution_count": 29,
   "metadata": {},
   "outputs": [
    {
     "name": "stdout",
     "output_type": "stream",
     "text": [
      "P =\n",
      "\n",
      "   1.0000e+00   5.5511e-17  -4.1633e-17\n",
      "   5.5511e-17   1.0000e+00  -8.3267e-17\n",
      "   1.7764e-15  -8.8818e-16   1.0000e+00\n",
      "\n"
     ]
    }
   ],
   "source": [
    "format short\n",
    "P = A * inv(A)"
   ]
  },
  {
   "cell_type": "markdown",
   "metadata": {},
   "source": [
    "Reset the display to the shorter format using\n",
    "\n",
    "format short\n",
    "\n",
    "format affects only the display of numbers, not the way MATLAB computes or saves them.\n",
    "\n",
    "To perform element-wise multiplication rather than matrix multiplication, use the .* operator:"
   ]
  },
  {
   "cell_type": "code",
   "execution_count": 30,
   "metadata": {},
   "outputs": [
    {
     "name": "stdout",
     "output_type": "stream",
     "text": [
      "P =\n",
      "\n",
      "    1    4    9\n",
      "   16   25   36\n",
      "   49   64    0\n",
      "\n"
     ]
    }
   ],
   "source": [
    "P = A .* A"
   ]
  },
  {
   "cell_type": "markdown",
   "metadata": {},
   "source": [
    "## Concatenating matrices\n",
    "\n",
    "Concatenation is the process of joining arrays to make larger ones. In fact, you made your first array by concatenating its individual elements. The pair of square brackets [ ] is the concatenation operator.\n",
    "\n",
    "Concatenating arrays next to one another using commas is called *horizontal* concatenation. Each array must have the same number of rows. Similarly, when the arrays have the same number of columns, you can concatenate *vertically* using semicolons."
   ]
  },
  {
   "cell_type": "code",
   "execution_count": 31,
   "metadata": {},
   "outputs": [
    {
     "name": "stdout",
     "output_type": "stream",
     "text": [
      "C =\n",
      "\n",
      "   1   2   3   1   2   3\n",
      "   4   5   6   4   5   6\n",
      "   7   8   0   7   8   0\n",
      "\n"
     ]
    }
   ],
   "source": [
    "C = [A, A]"
   ]
  },
  {
   "cell_type": "code",
   "execution_count": 32,
   "metadata": {},
   "outputs": [
    {
     "name": "stdout",
     "output_type": "stream",
     "text": [
      "D =\n",
      "\n",
      "   1   2   3\n",
      "   4   5   6\n",
      "   7   8   0\n",
      "   1   2   3\n",
      "   4   5   6\n",
      "   7   8   0\n",
      "\n"
     ]
    }
   ],
   "source": [
    "D = [A; A]"
   ]
  },
  {
   "cell_type": "code",
   "execution_count": 33,
   "metadata": {},
   "outputs": [
    {
     "name": "stdout",
     "output_type": "stream",
     "text": [
      "ans =\n",
      "\n",
      "   1\n",
      "   5\n",
      "   0\n",
      "\n"
     ]
    }
   ],
   "source": [
    "diag(A)"
   ]
  },
  {
   "cell_type": "markdown",
   "metadata": {},
   "source": [
    "## Matrix generators\n",
    "\n",
    "MATLAB provides functions that generates elementary matrices. The matrix of zeros, the matrix of ones, and the identity matrix are returned by the functions zeros, ones, and eye, respectively.\n",
    "\n",
    "<table>\n",
    "<center><b>Elementary matrices</b></center>\n",
    "    <tr>\n",
    "<td> eye(m,n) </td>\n",
    "<td> Returns an m-by-n matrix with 1 on the main diagonal </td>\n",
    "    </tr>\n",
    "    <tr>\n",
    "<td> eye(n) </td>\n",
    "<td> Returns an n-by-n square identity matrix </td>\n",
    "    </tr>\n",
    "    <tr>\n",
    "<td> zeros(m,n) </td>\n",
    "<td> Returns an m-by-n matrix of zeros </td>\n",
    "    </tr>\n",
    "    <tr>\n",
    "<td> ones(m,n) </td>\n",
    "<td> Returns an m-by-n matrix of ones </td>\n",
    "    </tr>\n",
    "    <tr>\n",
    "<td> diag(A) </td>\n",
    "<td> Extracts the diagonal of matrix A </td>\n",
    "    </tr>\n",
    "    <tr>\n",
    "<td> rand(m,n) </td>\n",
    "<td> Returns an m-by-n matrix of random numbers with uniform distribution </td>\n",
    "    </tr>\n",
    "    <tr>\n",
    "<td> randn(m,n) </td>\n",
    "<td> Returns an m-by-n matrix of random numbers with normal distribution </td>\n",
    "    </tr>\n",
    "</table>\n",
    "\n",
    "For example:"
   ]
  },
  {
   "cell_type": "code",
   "execution_count": 34,
   "metadata": {},
   "outputs": [
    {
     "name": "stdout",
     "output_type": "stream",
     "text": [
      "b =\n",
      "\n",
      "   1\n",
      "   1\n",
      "   1\n",
      "\n"
     ]
    }
   ],
   "source": [
    "b = ones(3,1)"
   ]
  },
  {
   "cell_type": "markdown",
   "metadata": {},
   "source": [
    "which is equivalent to b=[1;1;1]."
   ]
  },
  {
   "cell_type": "code",
   "execution_count": 35,
   "metadata": {},
   "outputs": [
    {
     "name": "stdout",
     "output_type": "stream",
     "text": [
      "ans =\n",
      "\n",
      "Diagonal Matrix\n",
      "\n",
      "   1   0   0\n",
      "   0   1   0\n",
      "   0   0   1\n",
      "\n"
     ]
    }
   ],
   "source": [
    "eye(3)"
   ]
  },
  {
   "cell_type": "code",
   "execution_count": 36,
   "metadata": {
    "scrolled": true
   },
   "outputs": [
    {
     "name": "stdout",
     "output_type": "stream",
     "text": [
      "D =\n",
      "\n",
      "   1   2   0   0\n",
      "   3   4   0   0\n",
      "   1   1   1   0\n",
      "   1   1   0   1\n",
      "\n"
     ]
    }
   ],
   "source": [
    "C = [1 2; 3 4];\n",
    "D = [C zeros(2); ones(2) eye(2)]"
   ]
  },
  {
   "cell_type": "markdown",
   "metadata": {},
   "source": [
    "generates a 3-by-3 identity matrix."
   ]
  },
  {
   "cell_type": "markdown",
   "metadata": {},
   "source": [
    "Acknowledgment: The material in this Notebook was adapted from Section 2.5 of \"Introduction to MATLAB for Engineering Students\" by David Houcque, Northwestern University, 2004, as well as the MATLAB Primer of MathWorks."
   ]
  }
 ],
 "metadata": {
  "kernelspec": {
   "display_name": "Octave",
   "language": "octave",
   "name": "octave"
  },
  "language_info": {
   "file_extension": ".m",
   "help_links": [
    {
     "text": "GNU Octave",
     "url": "https://www.gnu.org/software/octave/support.html"
    },
    {
     "text": "Octave Kernel",
     "url": "https://github.com/Calysto/octave_kernel"
    },
    {
     "text": "MetaKernel Magics",
     "url": "https://github.com/calysto/metakernel/blob/master/metakernel/magics/README.md"
    }
   ],
   "mimetype": "text/x-octave",
   "name": "octave",
   "version": "4.0.0"
  },
  "latex_envs": {
   "LaTeX_envs_menu_present": true,
   "autocomplete": true,
   "bibliofile": "biblio.bib",
   "cite_by": "apalike",
   "current_citInitial": 1,
   "eqLabelWithNumbers": true,
   "eqNumInitial": 1,
   "hotkeys": {
    "equation": "Ctrl-E",
    "itemize": "Ctrl-I"
   },
   "labels_anchors": false,
   "latex_user_defs": false,
   "report_style_numbering": false,
   "user_envs_cfg": false
  }
 },
 "nbformat": 4,
 "nbformat_minor": 2
}
