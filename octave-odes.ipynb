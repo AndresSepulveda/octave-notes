{
 "cells": [
  {
   "cell_type": "markdown",
   "metadata": {
    "collapsed": true
   },
   "source": [
    "# Solving Ordinary Differential Equations\n",
    "\n",
    "Differential equations form the basis of mathematical models in a wide range of fields – from engineering and physical sciences to finance and biological sciences. Differential equations are relations between unknown functions and their derivatives. Computing numerical solutions to differential equations is one of the most important tasks in numerical computing.\n",
    "\n",
    "Learning objectives:\n",
    " - Euler method\n",
    " - Midpoint method\n",
    " - Classical Runge-Kutta method\n",
    " - Adaptive ODE solvers"
   ]
  },
  {
   "cell_type": "code",
   "execution_count": 1,
   "metadata": {
    "collapsed": true
   },
   "outputs": [],
   "source": [
    "% In Octave, we need to load odepkg\n",
    "pkg load odepkg"
   ]
  },
  {
   "cell_type": "markdown",
   "metadata": {},
   "source": [
    "## Euler method\n",
    "\n",
    "The *initial value problem* for an ordinary differential equation involves finding a function $y(t)$ given its slope at $t$,\n",
    "$$y'(t) = f(t,y(t))$$\n",
    "together with an initial condition\n",
    "$$y(t_0) = y_0.$$\n",
    "\n",
    "Here, $y'(t)$ denotes $\\dfrac{dy(t)}{dt}$, the derivative of $y(t)$.\n",
    "\n",
    "A numerical solution to this problem generates a sequence of values for the independent variable, $t_0, t_1, \\dots$, and a corresponding sequence of values for the dependent variable, $y_0, y_1, \\dots$, so that each $y_k$ approximates the solution at $t_k$:\n",
    "$$y_k ≈ y(t_k), k = 0,1,\\dots$$\n",
    "\n",
    "Recall that the derivative of $y(t)$, which is the slope of the tangent line, can be approximated by the slope of secant line passing through the point $(t, y)$:\n",
    "$$y'(t) \\approx \\frac{y(t + h) - y(t)}{h}$$\n",
    "where $h$ is a step size. As $h$ tends to zero, the approximation approaches the true derivative.\n",
    "\n",
    "Therefore, we have \n",
    "$$y(t_k+h) \\approx y(t_k) + h y'(t_k), k = 0,1,\\dots$$\n",
    "\n",
    "This is the basis of the Euler method. It is not particularly useful in practice, but it illustrates the basic idea in solving ODEs.\n",
    "\n",
    "The following code implements the Euler method. It evaluates $f$ once per step."
   ]
  },
  {
   "cell_type": "code",
   "execution_count": 2,
   "metadata": {
    "collapsed": true
   },
   "outputs": [],
   "source": [
    "function yout = ode1(F, t0, h, tfinal, y0)\n",
    "% ODE1  A simple ODE solver.\n",
    "%   yout = ODE1(F,t0,h,tfinal,y0) uses Euler's\n",
    "%   method with fixed step size h on the interval\n",
    "%      t0 <= t <= tfinal\n",
    "%   to solve\n",
    "%      dy/dt = F(t,y)\n",
    "%   with y(t0) = y0.\n",
    "\n",
    "y = y0;\n",
    "yout = y;\n",
    "for t = t0 : h : tfinal-h\n",
    "    s = F(t,y);\n",
    "    y = y + h*s;\n",
    "    yout = [yout; y];\n",
    "end\n",
    "end"
   ]
  },
  {
   "cell_type": "markdown",
   "metadata": {},
   "source": [
    "Euler's method is the same as computing compound interest. Let us do a compound interest problem."
   ]
  },
  {
   "cell_type": "code",
   "execution_count": 3,
   "metadata": {},
   "outputs": [
    {
     "data": {
      "image/png": "[encoded data removed]",
      "text/plain": [
       "<IPython.core.display.Image object>"
      ]
     },
     "metadata": {},
     "output_type": "display_data"
    }
   ],
   "source": [
    "% Suppose we start with initial $100\n",
    "y0 = 100;\n",
    "\n",
    "% We define the interest rate to be 0.06 (annual)\n",
    "a = 0.06;\n",
    "\n",
    "% Define an anonymous function\n",
    "F = @(t, y) a * y;\n",
    "\n",
    "% start time\n",
    "t0 = 0;\n",
    "\n",
    "% end time\n",
    "tfinal = 10;\n",
    "\n",
    "% Step is by month\n",
    "h = 1/12;\n",
    "\n",
    "% Solve using Euler method\n",
    "compound = ode1(F, t0, h, tfinal, y0);\n",
    "\n",
    "% Plot it against simple interest\n",
    "ts = 0:h:tfinal;\n",
    "\n",
    "simple = 100 * (1 + ts * 0.06);\n",
    "\n",
    "plot(ts, compound, 'b.', ts, simple, 'r.');\n",
    "legend('compound', 'simple', 'Location', 'NorthWest')"
   ]
  },
  {
   "cell_type": "markdown",
   "metadata": {},
   "source": [
    "## Midpoint method\n",
    "\n",
    "The midpoint method evaluates $f$ twice per step. It uses the slope in the Euler method to estimate the slope at the mid-point.\n",
    "\n",
    "\\begin{align}\n",
    "s_1 & = f(t_k, y_k),\\\\\n",
    "s_2 & = f(t_k+\\tfrac{h}{2}, y_k+\\tfrac{h}{2}s_1), \\\\\n",
    "y_{k+1} & = y_k + h s_2.\n",
    "\\end{align}\n",
    "\n",
    "The following function implements the Midpoint method."
   ]
  },
  {
   "cell_type": "code",
   "execution_count": 4,
   "metadata": {
    "collapsed": true
   },
   "outputs": [],
   "source": [
    "function yout = ode2(F,t0,h,tfinal,y0)\n",
    "% ODE2  A simple ODE solver.\n",
    "%   yout = ODE2(F,t0,h,tfinal,y0) uses a midpoint\n",
    "%   rule with fixed step size h on the interval\n",
    "%      t0 <= t <= tfinal\n",
    "%   to solve\n",
    "%      dy/dt = F(t,y)\n",
    "%   with y(t0) = y0.\n",
    "\n",
    "   y = y0;\n",
    "   yout = y;\n",
    "   for t = t0 : h : tfinal-h\n",
    "      s1 = F(t,y);\n",
    "      s2 = F(t+h/2, y+h*s1/2);\n",
    "      y = y + h*s2;\n",
    "      yout = [yout; y];\n",
    "   end\n",
    "end"
   ]
  },
  {
   "cell_type": "markdown",
   "metadata": {},
   "source": [
    "The following example evaluates a trig function:\n",
    "\\begin{align}\n",
    "y'(t) &= \\sqrt{1-y^2}, \\\\\n",
    "y(0) & = 0,\\\\\n",
    "\\end{align}\n",
    "\n",
    "for $0 \\leq t \\leq \\dfrac{\\pi}{2}$."
   ]
  },
  {
   "cell_type": "code",
   "execution_count": 5,
   "metadata": {},
   "outputs": [
    {
     "data": {
      "image/png": "[encoded data removed]",
      "text/plain": [
       "<IPython.core.display.Image object>"
      ]
     },
     "metadata": {},
     "output_type": "display_data"
    }
   ],
   "source": [
    "% Define an anonymous function\n",
    "F = @(t, y) sqrt(1-y^2);\n",
    "\n",
    "% start time\n",
    "t0 = 0;\n",
    "y0 = 0;\n",
    "\n",
    "% end time\n",
    "tfinal = pi/2;\n",
    "\n",
    "% Step length\n",
    "h = pi/32;\n",
    "\n",
    "% Solve using midpoint method\n",
    "y = ode2(F, t0, h, tfinal, y0);\n",
    "\n",
    "% Plot it against true solution\n",
    "ts = 0:h:tfinal;\n",
    "exact = sin(ts);\n",
    "\n",
    "plot(ts, y, 'bo', ts, ode1(F, t0, h, tfinal, y0), 'x', ts, exact, 'r-');\n",
    "legend('midpoint', 'Euler', 'exact', 'Location', 'NorthWest')"
   ]
  },
  {
   "cell_type": "markdown",
   "metadata": {},
   "source": [
    "The midpoint method is more accurate than Euler method."
   ]
  },
  {
   "cell_type": "markdown",
   "metadata": {},
   "source": [
    "## Classical Runge-Kutta method\n",
    "\n",
    "The classic Runge-Kutta method is the most widely used numerical method for ODEs over the past 100 years. It evaluates $f$ four times per step.\n",
    "\n",
    "\\begin{align}\n",
    "s_1 & = f(t_k, y_k),\\\\\n",
    "s_2 & = f(t_k+\\tfrac{h}{2}, y_k+\\tfrac{h}{2}s_1), \\\\\n",
    "s_3 & = f(t_k+\\tfrac{h}{2}, y_k+\\tfrac{h}{2}s_2), \\\\\n",
    "s_4 & = f(t_k+h, y_k+h s_3), \\\\\n",
    "y_{k+1} & = y_k + \\tfrac{h}{6}(s_1 + 2s_2 + 2s_3 + s_4).\n",
    "\\end{align}\n",
    "\n",
    "The following function implements the method."
   ]
  },
  {
   "cell_type": "code",
   "execution_count": 6,
   "metadata": {
    "collapsed": true
   },
   "outputs": [],
   "source": [
    "function yout = ode4(F,t0,h,tfinal,y0)\n",
    "% ODE4  Classical Runge-Kutta ODE solver.\n",
    "%   yout = ODE4(F,t0,h,tfinal,y0) uses the classical\n",
    "%   Runge-Kutta method with fixed step size h on the interval\n",
    "%      t0 <= t <= tfinal\n",
    "%   to solve\n",
    "%      dy/dt = F(t,y)\n",
    "%   with y(t0) = y0.\n",
    "\n",
    "   y = y0;\n",
    "   yout = y;\n",
    "   for t = t0 : h : tfinal-h\n",
    "      s1 = F(t,y);\n",
    "      s2 = F(t+h/2, y+h*s1/2);\n",
    "      s3 = F(t+h/2, y+h*s2/2);\n",
    "      s4 = F(t+h, y+h*s3);\n",
    "      y = y + h*(s1 + 2*s2 + 2*s3 + s4)/6;\n",
    "      yout = [yout; y];\n",
    "   end\n",
    "end"
   ]
  },
  {
   "cell_type": "markdown",
   "metadata": {},
   "source": [
    "Here is a simple model of the growth of a flame:\n",
    "\\begin{align}\n",
    "y'(t) & = y^2 - y^3 \\\\\n",
    "y(0) & = y_0\n",
    "\\end{align}\n",
    "for $0 \\leq t \\leq \\dfrac{2}{y_0}$.\n",
    "[<img src=\"https://drive.google.com/uc?export=download&id=0ByTwsK5_Tl_PZ2s4WllSR1prZ0E\" width=\"400\">](https://www.mathworks.com/videos/solving-odes-in-matlab-3-classical-runge-kutta-ode4-117528.html)\n",
    "\n",
    "Here, $y$ denotes the radius of the flame."
   ]
  },
  {
   "cell_type": "code",
   "execution_count": 7,
   "metadata": {},
   "outputs": [
    {
     "data": {
      "image/png": "[encoded data removed]",
      "text/plain": [
       "<IPython.core.display.Image object>"
      ]
     },
     "metadata": {},
     "output_type": "display_data"
    }
   ],
   "source": [
    "% Define an anonymous function\n",
    "F = @(t, y) (y^2 - y^3);\n",
    "\n",
    "% start time\n",
    "t0 = 0;\n",
    "y0 = 0.01;\n",
    "\n",
    "% end time\n",
    "tfinal = 200;\n",
    "\n",
    "% Step length\n",
    "h = 200/500;\n",
    "\n",
    "% Solve using Runge-Kutta method\n",
    "y = ode4(F, t0, h, tfinal, y0);\n",
    "\n",
    "ts = 0:h:tfinal;\n",
    "exact = sin(ts);\n",
    "\n",
    "plot(ts, y, '.');"
   ]
  },
  {
   "cell_type": "markdown",
   "metadata": {},
   "source": [
    "The classical Runge-Kutta method is even more accurate than midpoint method. Its major shortcoming is the lack of an error estimate."
   ]
  },
  {
   "cell_type": "markdown",
   "metadata": {},
   "source": [
    "## Order of Method\n",
    "\n",
    "The order of an ODE method is $p$ if the global error in $\\mathcal{O}(h^p)$.\n",
    "\n",
    "The Euler method is order $1$. The Midpoint method is order $2$. The Runge-Kutta method is order $4$.\n",
    "\n",
    "We can verify their order numerically using the following code."
   ]
  },
  {
   "cell_type": "code",
   "execution_count": 8,
   "metadata": {
    "collapsed": true
   },
   "outputs": [],
   "source": [
    "function p = orderx(odex)\n",
    "% ORDER  Experiment to determine order\n",
    "% of ODE solver.\n",
    "% Integrate 1/(1+t)^2 from 0 to 1.\n",
    "% Exact value:\n",
    "\n",
    "   vexact = 0.5;\n",
    "   F = @(t,y) 1/(1+t)^2;\n",
    "   t0 = 0;\n",
    "   tfinal = 1;\n",
    "   y0 = 0;\n",
    "   h = 0.1;\n",
    "   yout = odex(F,t0,h,tfinal,y0);\n",
    "   v1 = yout(end);\n",
    "   h = h/2;\n",
    "   yout = odex(F,t0,h,tfinal,y0);\n",
    "   v2 = yout(end);\n",
    "   ratio = (v1 - vexact)/(v2 - vexact);\n",
    "   p = round(log2(ratio));\n",
    "end"
   ]
  },
  {
   "cell_type": "code",
   "execution_count": 9,
   "metadata": {},
   "outputs": [
    {
     "name": "stdout",
     "output_type": "stream",
     "text": [
      "ans =  1\n"
     ]
    }
   ],
   "source": [
    "orderx(@ode1)"
   ]
  },
  {
   "cell_type": "code",
   "execution_count": 10,
   "metadata": {},
   "outputs": [
    {
     "name": "stdout",
     "output_type": "stream",
     "text": [
      "ans =  2\n"
     ]
    }
   ],
   "source": [
    "orderx(@ode2)"
   ]
  },
  {
   "cell_type": "code",
   "execution_count": 11,
   "metadata": {},
   "outputs": [
    {
     "name": "stdout",
     "output_type": "stream",
     "text": [
      "ans =  4\n"
     ]
    }
   ],
   "source": [
    "orderx(@ode4)"
   ]
  },
  {
   "cell_type": "markdown",
   "metadata": {},
   "source": [
    "## Adaptive ODE solvers\n",
    "\n",
    "Modern ODE software automatically choose the step size and maintain a specified accuracy. It automatically estimates errors using methods of different orders. \n",
    "\n",
    "For example, ODE23 uses a third-order method as the base method and a second-order method to estimate the error, due to Bogacki and Shampine. It is the simplest MATLAB solver, and is suitable for coarse accuracy requirements such as computer graphics.\n",
    "\n",
    "The following function is a simplified implementation of ode23."
   ]
  },
  {
   "cell_type": "code",
   "execution_count": 12,
   "metadata": {
    "collapsed": true
   },
   "outputs": [],
   "source": [
    "function [tout,yout] = ode23tx(F,tspan,y0,arg4,varargin)\n",
    "%ODE23TX  Solve non-stiff differential equations.  Textbook version of ODE23.\n",
    "%\n",
    "%   ODE23TX(F,TSPAN,Y0) with TSPAN = [T0 TFINAL] integrates the system\n",
    "%   of differential equations dy/dt = f(t,y) from t = T0 to t = TFINAL.\n",
    "%   The initial condition is y(T0) = Y0.\n",
    "%\n",
    "%   The first argument, F, is a function handle or an anonymous function\n",
    "%   that defines f(t,y).  This function must have two input arguments,\n",
    "%   t and y, and must return a column vector of the derivatives, dy/dt.\n",
    "%\n",
    "%   With two output arguments, [T,Y] = ODE23TX(...) returns a column \n",
    "%   vector T and an array Y where Y(:,k) is the solution at T(k).\n",
    "%\n",
    "%   With no output arguments, ODE23TX plots the emerging solution.\n",
    "%\n",
    "%   ODE23TX(F,TSPAN,Y0,RTOL) uses the relative error tolerance RTOL\n",
    "%   instead of the default 1.e-3.\n",
    "%\n",
    "%   ODE23TX(F,TSPAN,Y0,OPTS) where OPTS = ODESET('reltol',RTOL, ...\n",
    "%   'abstol',ATOL,'outputfcn',@PLOTFUN) uses relative error RTOL instead\n",
    "%   of 1.e-3, absolute error ATOL instead of 1.e-6, and calls PLOTFUN\n",
    "%   instead of ODEPLOT after each successful step.\n",
    "%\n",
    "%   More than four input arguments, ODE23TX(F,TSPAN,Y0,RTOL,P1,P2,...),\n",
    "%   are passed on to F, F(T,Y,P1,P2,...).\n",
    "%\n",
    "%   ODE23TX uses the Runge-Kutta (2,3) method of Bogacki and Shampine (BS23).\n",
    "%\n",
    "%   Example    \n",
    "%      tspan = [0 2*pi];\n",
    "%      y0 = [1 0]';\n",
    "%      F = @(t,y) [0 1; -1 0]*y;\n",
    "%      ode23tx(F,tspan,y0);\n",
    "%\n",
    "%   See also ODE23.\n",
    "\n",
    "%   Copyright 2012 - 2015 The MathWorks, Inc.\n",
    "\n",
    "% Initialize variables.\n",
    "\n",
    "rtol = 1.e-3;\n",
    "atol = 1.e-6;\n",
    "plotfun = @odeplot;\n",
    "if nargin >= 4 && isnumeric(arg4)\n",
    "   rtol = arg4;\n",
    "elseif nargin >= 4 && isstruct(arg4)\n",
    "   if ~isempty(arg4.RelTol), rtol = arg4.RelTol; end\n",
    "   if ~isempty(arg4.AbsTol), atol = arg4.AbsTol; end\n",
    "   if ~isempty(arg4.OutputFcn), plotfun = arg4.OutputFcn; end\n",
    "end\n",
    "t0 = tspan(1);\n",
    "tfinal = tspan(2);\n",
    "tdir = sign(tfinal - t0);\n",
    "plotit = (nargout == 0);\n",
    "threshold = atol / rtol;\n",
    "hmax = abs(0.1*(tfinal-t0));\n",
    "t = t0;\n",
    "y = y0(:);\n",
    "\n",
    "% Initialize output.\n",
    "\n",
    "if plotit\n",
    "   plotfun(tspan,y,'init');\n",
    "else\n",
    "   tout = t;\n",
    "   yout = y.';\n",
    "end\n",
    "\n",
    "% Compute initial step size.\n",
    "\n",
    "s1 = F(t, y, varargin{:});\n",
    "r = norm(s1./max(abs(y),threshold),inf) + realmin;\n",
    "h = tdir*0.8*rtol^(1/3)/r;\n",
    "\n",
    "% The main loop.\n",
    "\n",
    "while t ~= tfinal\n",
    "  \n",
    "   hmin = 16*eps*abs(t);\n",
    "   if abs(h) > hmax, h = tdir*hmax; end\n",
    "   if abs(h) < hmin, h = tdir*hmin; end\n",
    "   \n",
    "   % Stretch the step if t is close to tfinal.\n",
    "\n",
    "   if 1.1*abs(h) >= abs(tfinal - t)\n",
    "      h = tfinal - t;\n",
    "   end\n",
    "   \n",
    "   % Attempt a step.\n",
    "\n",
    "   s2 = F(t+h/2, y+h/2*s1, varargin{:});\n",
    "   s3 = F(t+3*h/4, y+3*h/4*s2, varargin{:});\n",
    "   tnew = t + h;\n",
    "   ynew = y + h*(2*s1 + 3*s2 + 4*s3)/9;\n",
    "   s4 = F(tnew, ynew, varargin{:});\n",
    "      \n",
    "   % Estimate the error.\n",
    "\n",
    "   e = h*(-5*s1 + 6*s2 + 8*s3 - 9*s4)/72;\n",
    "   err = norm(e./max(max(abs(y),abs(ynew)),threshold),inf) + realmin;\n",
    "      \n",
    "   % Accept the solution if the estimated error is less than the tolerance.\n",
    "\n",
    "   if err <= rtol\n",
    "      t = tnew;\n",
    "      y = ynew;\n",
    "      if plotit\n",
    "         if plotfun(t,y,'');\n",
    "            break\n",
    "         end\n",
    "      else\n",
    "         tout(end+1,1) = t;\n",
    "         yout(end+1,:) = y.';\n",
    "      end\n",
    "      s1 = s4;     % Reuse final function value to start new step.\n",
    "   end\n",
    "   \n",
    "   % Compute a new step size.\n",
    "\n",
    "   h = h*min(5,0.8*(rtol/err)^(1/3));\n",
    " \n",
    "   % Exit early if step size is too small.\n",
    "   \n",
    "   if abs(h) <= hmin\n",
    "      warning('Step size %e too small at t = %e.\\n',h,t);\n",
    "      t = tfinal;\n",
    "   end\n",
    "end\n",
    "\n",
    "if plotit\n",
    "   plotfun([],[],'done');\n",
    "end\n",
    "end"
   ]
  },
  {
   "cell_type": "markdown",
   "metadata": {},
   "source": [
    "The following solves the problem $y'(x)=y$."
   ]
  },
  {
   "cell_type": "code",
   "execution_count": 13,
   "metadata": {},
   "outputs": [
    {
     "data": {
      "image/png": "[encoded data removed]",
      "text/plain": [
       "<IPython.core.display.Image object>"
      ]
     },
     "metadata": {},
     "output_type": "display_data"
    }
   ],
   "source": [
    "F = @(t, y) y;\n",
    "[ts, ys] = ode23tx(F, [0, 1], 1);\n",
    "plot(ts, ys, '-o')"
   ]
  },
  {
   "cell_type": "code",
   "execution_count": 14,
   "metadata": {
    "scrolled": false
   },
   "outputs": [
    {
     "data": {
      "image/png": "[encoded data removed]",
      "text/plain": [
       "<IPython.core.display.Image object>"
      ]
     },
     "metadata": {},
     "output_type": "display_data"
    }
   ],
   "source": [
    "a = 0.25;\n",
    "y0 = 15.9;\n",
    "F = @(t, y) 2*(a-t) * y^2;\n",
    "\n",
    "[ts, ys] = ode23tx(F, [0, 1], y0);\n",
    "plot(ts, ys, '-o')"
   ]
  },
  {
   "cell_type": "markdown",
   "metadata": {},
   "source": [
    "ODE45 is the most popular method, which uses a fifth-order method as the base method and a fourth-order method to estimate error due to Dormand and Prince. It requires six function evaluations per step."
   ]
  },
  {
   "cell_type": "code",
   "execution_count": 15,
   "metadata": {},
   "outputs": [
    {
     "name": "stdout",
     "output_type": "stream",
     "text": [
      "warning: Option \"RelTol\" not set, new value 0.000001 is used\n",
      "warning: called from\n",
      "    ode45 at line 113 column 5\n",
      "warning: Option \"AbsTol\" not set, new value 0.000001 is used\n",
      "warning: Option \"InitialStep\" not set, new value 0.100000 is used\n",
      "warning: Option \"MaxStep\" not set, new value 0.100000 is used\n",
      "warning: Option \"RelTol\" not set, new value 0.000001 is used\n",
      "warning: called from\n",
      "    ode45 at line 113 column 5\n",
      "warning: Option \"AbsTol\" not set, new value 0.000001 is used\n",
      "warning: Option \"InitialStep\" not set, new value 0.010000 is used\n",
      "warning: Option \"MaxStep\" not set, new value 0.100000 is used\n"
     ]
    },
    {
     "data": {
      "image/png": "[encoded data removed]",
      "text/plain": [
       "<IPython.core.display.Image object>"
      ]
     },
     "metadata": {},
     "output_type": "display_data"
    }
   ],
   "source": [
    "a = 0.25;\n",
    "y0 = 15.9;\n",
    "F = @(t, y) 2*(a-t) * y^2;\n",
    "\n",
    "[ts, ys] = ode45(F, [0, 1], y0);\n",
    "plot(ts, ys, 'b-o', 'MarkerSize', 3)\n",
    "hold on;\n",
    "opts = odeset;\n",
    "opts.Refine =  1;\n",
    "[ts, ys] = ode45(F, [0, 1], y0, opts);\n",
    "plot(ts, ys, 'ro', 'MarkerSize', 6)"
   ]
  },
  {
   "cell_type": "markdown",
   "metadata": {},
   "source": [
    "## Stiff ODEs\n",
    "\n",
    "A problem is said to be stiff if the solution being sought varies slowly, but there are nearby solutions that vary rapidly, so the numerical method must take small steps to obtain satisfactory results. The flame model demonstrates stiffness. \n",
    "\n",
    "ODE solvers with names ending in \"s\", such as ODE23s and ODE15s, employ implicit methods and are intended for stiff problems. These methods require more work per step, but take far fewer steps.\n",
    "\n",
    "For example, the flame model is very stiff with small y0."
   ]
  },
  {
   "cell_type": "code",
   "execution_count": 16,
   "metadata": {},
   "outputs": [
    {
     "name": "stdout",
     "output_type": "stream",
     "text": [
      "warning: Option \"AbsTol\" not set, new value 0.000001 is used\n",
      "warning: called from\n",
      "    ode45 at line 124 column 5\n",
      "warning: Option \"InitialStep\" not set, new value 200.000000 is used\n",
      "warning: Option \"MaxStep\" not set, new value 200.000000 is used\n"
     ]
    },
    {
     "data": {
      "image/png": "[encoded data removed]",
      "text/plain": [
       "<IPython.core.display.Image object>"
      ]
     },
     "metadata": {},
     "output_type": "display_data"
    }
   ],
   "source": [
    "% Define an anonymous function\n",
    "F = @(t, y) (y^2 - y^3);\n",
    "\n",
    "% start time\n",
    "t0 = 0;\n",
    "y0 = 0.001;\n",
    "\n",
    "% end time\n",
    "tfinal = 2/y0;\n",
    "\n",
    "opts = odeset;\n",
    "opts.RelTol = 1.e-5;\n",
    "\n",
    "% Solve using ODE45\n",
    "[ts, ys] = ode45(F, [0, tfinal], y0, opts);\n",
    "plot(ts, ys, '-o')"
   ]
  },
  {
   "cell_type": "code",
   "execution_count": 17,
   "metadata": {
    "scrolled": true
   },
   "outputs": [
    {
     "data": {
      "image/png": "[encoded data removed]",
      "text/plain": [
       "<IPython.core.display.Image object>"
      ]
     },
     "metadata": {},
     "output_type": "display_data"
    }
   ],
   "source": [
    "% Solve using ode23s\n",
    "opts = odeset;\n",
    "opts.RelTol = 1.e-5;\n",
    "opts.MaxStep = 100;\n",
    "\n",
    "[ts, ys] = ode23s(F, [0, tfinal], y0, opts);\n",
    "plot(ts, ys, '-o')\n",
    "\n",
    "% Note:  You may get different results in MATLAB than in Octave"
   ]
  },
  {
   "cell_type": "markdown",
   "metadata": {},
   "source": [
    "Acknowledgment: The material in this Notebook was adapted from Cleve Moler's short videos on [Solving ODEs in MATLAB](https://www.mathworks.com/videos/series/solving-odes-in-matlab-117658.html)."
   ]
  }
 ],
 "metadata": {
  "kernelspec": {
   "display_name": "Octave",
   "language": "octave",
   "name": "octave"
  },
  "language_info": {
   "file_extension": ".m",
   "help_links": [
    {
     "text": "GNU Octave",
     "url": "https://www.gnu.org/software/octave/support.html"
    },
    {
     "text": "Octave Kernel",
     "url": "https://github.com/Calysto/octave_kernel"
    },
    {
     "text": "MetaKernel Magics",
     "url": "https://github.com/calysto/metakernel/blob/master/metakernel/magics/README.md"
    }
   ],
   "mimetype": "text/x-octave",
   "name": "octave",
   "version": "4.0.0"
  },
  "latex_envs": {
   "LaTeX_envs_menu_present": true,
   "autocomplete": true,
   "bibliofile": "biblio.bib",
   "cite_by": "apalike",
   "current_citInitial": 1,
   "eqLabelWithNumbers": true,
   "eqNumInitial": 1,
   "hotkeys": {
    "equation": "Ctrl-E",
    "itemize": "Ctrl-I"
   },
   "labels_anchors": false,
   "latex_user_defs": false,
   "report_style_numbering": false,
   "user_envs_cfg": false
  }
 },
 "nbformat": 4,
 "nbformat_minor": 2
}
