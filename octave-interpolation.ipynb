{
 "cells": [
  {
   "cell_type": "markdown",
   "metadata": {
    "collapsed": true,
    "deletable": true,
    "editable": true
   },
   "source": [
    "# Interpolation\n",
    "\n",
    "Interpolation is the process of defining a function that takes on specified values at specified points. It can be useful for table lookup, plotting, numerical differentiation, numerical integration, etc.\n",
    "\n",
    "Learning objectives:\n",
    " - Construction of interpolating polynomials\n",
    " - Construction of piecewise linear interpolation\n",
    " - Understand shape-preserving cubic interpolation and cubic Splines"
   ]
  },
  {
   "cell_type": "markdown",
   "metadata": {
    "deletable": true,
    "editable": true
   },
   "source": [
    "## Interpolating Polynomials\n",
    "\n",
    "Given $n$ points in the plane, $(x_k, y_k), k = 1, \\dots, n$, with distinct $x_k$'s, there is a unique polynomial in $x$ of degree less than $n$ whose graph passes through the points. This polynomial is called the *interpolating polynomial* because it exactly reproduces the given data:\n",
    "$$P(x_k) = y_k, k = 1,\\dots,n.$$\n",
    "\n",
    "For example,"
   ]
  },
  {
   "cell_type": "code",
   "execution_count": null,
   "metadata": {
    "collapsed": false,
    "deletable": true,
    "editable": true
   },
   "outputs": [],
   "source": [
    "x = 0:3;\n",
    "y = [-5 -6 -1 16];\n",
    "\n",
    "% Plot the cubic polynomial that interpolates the give points\n",
    "plot(x, y, 'o', linspace(0,3), polyval(polyfit(x,y,3), linspace(0,3)), '-')"
   ]
  },
  {
   "cell_type": "markdown",
   "metadata": {
    "deletable": true,
    "editable": true
   },
   "source": [
    "There are many different formulas for the polynomial, which all define the same function.\n",
    "\n",
    "One of the most compact representation of the interpolating polynomial is the Lagrange form\n",
    "$$\n",
    "P(x) = \\sum_{k=1}^n\\left(\\Pi_{j\\neq k}\\frac{x-x_j}{x_k-x_j}\\right)y_k,\n",
    "$$\n",
    "The following function implements the Lagrange form."
   ]
  },
  {
   "cell_type": "code",
   "execution_count": null,
   "metadata": {
    "collapsed": false,
    "deletable": true,
    "editable": true
   },
   "outputs": [],
   "source": [
    "function v = lagrangeForm(x,y,u)\n",
    "% LAGRANGEFORM: takes n points and values in x and y, evaluates the\n",
    "% interpolating polynomial at u using the Lagrange form\n",
    "n = length(x);\n",
    "v = zeros(size(u));\n",
    "for k = 1:n\n",
    "   w = ones(size(u));\n",
    "   for j = [1:k-1 k+1:n]\n",
    "      w = (u-x(j))./(x(k)-x(j)).*w;\n",
    "   end\n",
    "   v = v + w*y(k);\n",
    "end\n",
    "end"
   ]
  },
  {
   "cell_type": "code",
   "execution_count": null,
   "metadata": {
    "collapsed": false,
    "deletable": true,
    "editable": true
   },
   "outputs": [],
   "source": [
    "% Initialization: Load the symbolic package for Octave. \n",
    "% This command is not necessary (and would not work) in MATLAB\n",
    "pkg load symbolic\n",
    "sym;"
   ]
  },
  {
   "cell_type": "code",
   "execution_count": null,
   "metadata": {
    "collapsed": false,
    "deletable": true,
    "editable": true
   },
   "outputs": [],
   "source": [
    "symx = sym('x');\n",
    "P = lagrangeForm(x, y, symx);\n",
    "pretty(P)"
   ]
  },
  {
   "cell_type": "markdown",
   "metadata": {
    "deletable": true,
    "editable": true
   },
   "source": [
    "The Lagrange form is not the most convenient for evaluation.\n",
    "\n",
    "A simpler, and yet more general form, is called the *power form*, which has the format\n",
    "$$P(x)=c_1x^{n-1} +c_2x^{n-2} +\\dots+c_{n-1}x+c_n,$$\n",
    "where $c_j, j=1, 2, \\dots, n$ are constants. \n",
    "\n",
    "The power form is particularly convenient to differentiate or integrate. Because of the uniqueness of the interpolating polynomial, we can convert the Lagrange form to the power form."
   ]
  },
  {
   "cell_type": "code",
   "execution_count": null,
   "metadata": {
    "collapsed": false,
    "deletable": true,
    "editable": true
   },
   "outputs": [],
   "source": [
    "Q = simplify(P);\n",
    "pretty(Q)"
   ]
  },
  {
   "cell_type": "markdown",
   "metadata": {
    "deletable": true,
    "editable": true
   },
   "source": [
    "Here is another example:"
   ]
  },
  {
   "cell_type": "code",
   "execution_count": null,
   "metadata": {
    "collapsed": false,
    "deletable": true,
    "editable": true
   },
   "outputs": [],
   "source": [
    "x = 1:6;\n",
    "y = [16 18 21 17 15 12];\n",
    "P = lagrangeForm(x, y, symx);\n",
    "pretty(P)"
   ]
  },
  {
   "cell_type": "markdown",
   "metadata": {
    "deletable": true,
    "editable": true
   },
   "source": [
    "Its power form can be obtained by simplifying the above:"
   ]
  },
  {
   "cell_type": "code",
   "execution_count": null,
   "metadata": {
    "collapsed": false,
    "deletable": true,
    "editable": true
   },
   "outputs": [],
   "source": [
    "Q = simplify(P);\n",
    "pretty(Q)"
   ]
  },
  {
   "cell_type": "markdown",
   "metadata": {
    "deletable": true,
    "editable": true
   },
   "source": [
    "The coefficients in the power form, in principle, can be computed by solving a system of simultaneous linear equations\n",
    "$$\n",
    "\\left[\\begin{array}{ccccc}\n",
    "x_{1}^{n-1} & x_{1}^{n-2} & \\cdots & x_{1} & 1\\\\\n",
    "x_{2}^{n-1} & x_{2}^{n-2} & \\cdots & x_{2} & 1\\\\\n",
    "\\vdots & \\vdots & \\ddots & \\vdots & \\vdots\\\\\n",
    "x_{n}^{n-1} & x_{n}^{n-2} & \\cdots & x_{n} & 1\n",
    "\\end{array}\\right]\\left[\\begin{array}{c}\n",
    "c_{1}\\\\\n",
    "c_{2}\\\\\n",
    "\\vdots\\\\\n",
    "c_{n}\n",
    "\\end{array}\\right]=\\left[\\begin{array}{c}\n",
    "y_{1}\\\\\n",
    "y_{2}\\\\\n",
    "\\vdots\\\\\n",
    "y_{n}\n",
    "\\end{array}\\right]$$\n",
    "\n",
    "The matrix above is known as a *Vandermonde* matrix. Its elements are\n",
    "$$v_{k,j}=x_k ^{n-j}.$$\n",
    "\n",
    "We can obtain the coefficients by solving the linear equation:"
   ]
  },
  {
   "cell_type": "code",
   "execution_count": null,
   "metadata": {
    "collapsed": false,
    "deletable": true,
    "editable": true
   },
   "outputs": [],
   "source": [
    "vander(x) \\ y'"
   ]
  },
  {
   "cell_type": "markdown",
   "metadata": {
    "deletable": true,
    "editable": true
   },
   "source": [
    "which gives numerical solutions. The exact coefficients can also be obtained as follows:"
   ]
  },
  {
   "cell_type": "code",
   "execution_count": null,
   "metadata": {
    "collapsed": false,
    "deletable": true,
    "editable": true
   },
   "outputs": [],
   "source": [
    "vander(x) \\ sym(y)'"
   ]
  },
  {
   "cell_type": "markdown",
   "metadata": {
    "deletable": true,
    "editable": true
   },
   "source": [
    "This polynomial, however, becomes quite oscillatory, and it may not represent the reality. It will become even more so as the degree of polynomial increases."
   ]
  },
  {
   "cell_type": "code",
   "execution_count": null,
   "metadata": {
    "collapsed": false,
    "deletable": true,
    "editable": true
   },
   "outputs": [],
   "source": [
    "plot(x, y, 'o', linspace(0.8,6.2), lagrangeForm(x,y,linspace(0.8,6.2)), '-')"
   ]
  },
  {
   "cell_type": "markdown",
   "metadata": {
    "deletable": true,
    "editable": true
   },
   "source": [
    "To overcome the oscillations, one need to use lower-degree polynomials. One approach is to use least-squares fittings, which will be covered in the next module. The MATLAB built-in function for polynomial interpolation is [`polyfit`](https://www.mathworks.com/help/matlab/ref/polyfit.html) also supports least-squares fittings. For example,"
   ]
  },
  {
   "cell_type": "code",
   "execution_count": null,
   "metadata": {
    "collapsed": false,
    "deletable": true,
    "editable": true
   },
   "outputs": [],
   "source": [
    "plot(x, y, 'o', linspace(0.8,6.2), polyval(polyfit(x,y,2), linspace(0.8,6.2)), '-')"
   ]
  },
  {
   "cell_type": "markdown",
   "metadata": {
    "deletable": true,
    "editable": true
   },
   "source": [
    " Another approach is to use piecewise polynomial interpolation, which we cover next."
   ]
  },
  {
   "cell_type": "markdown",
   "metadata": {
    "deletable": true,
    "editable": true
   },
   "source": [
    "## Piecewise Linear Interpolation\n",
    "\n",
    "MATLAB's graphics routines use piecewise linear interpolation. It is the simplest piecewise interpolation."
   ]
  },
  {
   "cell_type": "code",
   "execution_count": null,
   "metadata": {
    "collapsed": false,
    "deletable": true,
    "editable": true
   },
   "outputs": [],
   "source": [
    "x = 1:6;\n",
    "y = [16 18 21 17 15 12];\n",
    "plot(x,y,'o',x,y,'-');"
   ]
  },
  {
   "cell_type": "markdown",
   "metadata": {
    "deletable": true,
    "editable": true
   },
   "source": [
    "For piecewise interpolation, the nodes $x_i$ must be ordered such that $x_1<x_2<\\dots<x_n$. The $k$th subinterval is defined as\n",
    "$$x_k<x<x_{k+1}.$$\n",
    "The local variable, $s$, is given by\n",
    "$$s = x-x_k.$$\n",
    "Let $h_k$ denote the length of the $k$th subinterval:\n",
    "$$h_k = x_{k+1}-x_k.$$ \n",
    "\n",
    "The first *divided difference* is\n",
    "$$\\delta_k = \\frac{y_{k+1} - y_k}{h_k}.$$\n",
    "With these quantities in hand, the piecewise-linear interpolant is\n",
    "$$L(x)=y_k + s \\delta_k = y_k + (x - x_k)\\frac{y_{k+1} - y_k}{x_{k+1} - x_{k}}.$$\n",
    "\n",
    "The following function implements piecewise-linear interpolation."
   ]
  },
  {
   "cell_type": "code",
   "execution_count": null,
   "metadata": {
    "collapsed": false,
    "deletable": true,
    "editable": true
   },
   "outputs": [],
   "source": [
    "function v = piecelin(x,y,u)\n",
    "%PIECELIN  Piecewise linear interpolation.\n",
    "%  v = piecelin(x,y,u) finds the piecewise linear L(x)\n",
    "%  with L(x(j)) = y(j) and returns v(k) = L(u(k)).\n",
    "\n",
    "%   Copyright 2014 Cleve Moler\n",
    "\n",
    "%  First divided difference\n",
    "   delta = diff(y) ./ diff(x);\n",
    "\n",
    "%  Find subinterval indices k so that x(k) <= u < x(k+1)\n",
    "   n = length(x);\n",
    "   k = ones(size(u));\n",
    "   for j = 2:n-1\n",
    "      k(x(j) <= u) = j;\n",
    "   end\n",
    "\n",
    "%  Evaluate interpolant\n",
    "   s = u - x(k);\n",
    "   v = y(k) + s.*delta(k);\n",
    "end"
   ]
  },
  {
   "cell_type": "markdown",
   "metadata": {
    "deletable": true,
    "editable": true
   },
   "source": [
    "Plotting the function should produce the same plot as above."
   ]
  },
  {
   "cell_type": "code",
   "execution_count": null,
   "metadata": {
    "collapsed": false,
    "deletable": true,
    "editable": true
   },
   "outputs": [],
   "source": [
    "plot(x, y, 'o', linspace(1,6), piecelin(x,y,linspace(1,6)), '-')"
   ]
  },
  {
   "cell_type": "markdown",
   "metadata": {
    "deletable": true,
    "editable": true
   },
   "source": [
    "The piecewise linear interpolant $L(x)$ is a continuous function of $x$, but its first derivative, $L'(x)$, is not continuous. The derivative has a constant value, $\\delta k$, on each subinterval and jumps at $x_k$. This can be overcome using piecewise cubic interpolation."
   ]
  },
  {
   "cell_type": "markdown",
   "metadata": {
    "deletable": true,
    "editable": true
   },
   "source": [
    "## Piecewise Cubic Hermite Interpolation\n",
    "\n",
    "Many of the most effective interpolation techniques are based on piecewise cubic polynomials. \n",
    "\n",
    "Consider the $k$th subinterval $x_{k}, \\dots, x_{k+1}$. Let $d_k$ denote the slope of the interpolant at $x_k$:\n",
    "$$d_k =P'(x_k).$$\n",
    "\n",
    "The *Hermite* or *osculatory cubic polynomial*, satisfies four interpolation conditions:\n",
    "$$P(x_k) = y_k, P(x_{k+1}) = y_{k+1}, P'(x_k) = d_k, P'(x_{k+1}) = d_{k+1}.$$\n",
    "\n",
    "For the piecewise linear interpolant, $d_k$ = $\\delta_{k-1}$ or $\\delta_{k}$, but this is not necessarily true for higher order interpolants."
   ]
  },
  {
   "cell_type": "markdown",
   "metadata": {
    "deletable": true,
    "editable": true
   },
   "source": [
    "Again, let $s = x - x_k$ and $h_k = x_{k+1} - x_k$. Then,\n",
    "$$P(x) = \\frac{3hs^2-2s^3}{h^3}y_{k+1} + \\frac{h^3-3hs^2 +2s^3}{h^3}y_k\n",
    "+ \\frac{s^2(s - h)}{h^2}d_{k+1} + \\frac{s(s - h)^2}{h^2}d_k.$$\n",
    "\n",
    "If we happen to know both function values and first derivative values at $x_k$'s, then piecewise cubic Hermite interpolation can reproduce those data. In general, the derivative values are unknown. The key question is how to estimate the $d_k$."
   ]
  },
  {
   "cell_type": "markdown",
   "metadata": {
    "deletable": true,
    "editable": true
   },
   "source": [
    "### Shape-Preserving Cubic Interpolation\n",
    "\n",
    "A common strategy is to make the function \"shape preserving.\" The key idea is to determine the slopes $d_k$ so that the function values do not overshoot the data values, at least locally, by setting \n",
    "\n",
    "\n",
    "If $\\delta_k$ and $\\delta_{k-1}$ have opposite signs or if either of them is zero, then $x_k$ is a discrete local minimum or maximum, so we set\n",
    "$$d_{k}=\\begin{cases}\n",
    "0 & \\delta_{k-1}\\delta_{k}\\leq0\\\\\n",
    "\\dfrac{(w_{1}+w_{2})\\delta_{k-1}\\delta_{k}}{w_{2}\\delta_{k-1}+w_{1}\\delta_{k}} & \\text{otherwise},\n",
    "\\end{cases}$$\n",
    "where \n",
    "$$w_1 =2h_k +h_{k-1}, w_2 =h_k +2h_{k-1}.$$\n",
    "\n",
    "A modified one-sided analysis is needed at end-points. The method is implemented as follows."
   ]
  },
  {
   "cell_type": "code",
   "execution_count": null,
   "metadata": {
    "collapsed": true,
    "deletable": true,
    "editable": true
   },
   "outputs": [],
   "source": [
    "function v = pchiptx(x,y,u)\n",
    "%PCHIPTX  Textbook piecewise cubic Hermite interpolation.\n",
    "%  v = pchiptx(x,y,u) finds the shape-preserving piecewise cubic\n",
    "%  interpolant P(x), with P(x(j)) = y(j), and returns v(k) = P(u(k)).\n",
    "%\n",
    "%  See PCHIP, SPLINETX.\n",
    " \n",
    "%   Copyright 2014 Cleve Moler\n",
    "\n",
    "%  First derivatives\n",
    " \n",
    "   h = diff(x);\n",
    "   delta = diff(y)./h;\n",
    "   d = pchipslopes(h,delta);\n",
    "\n",
    "%  Piecewise polynomial coefficients\n",
    "\n",
    "   n = length(x);\n",
    "   c = (3*delta - 2*d(1:n-1) - d(2:n))./h;\n",
    "   b = (d(1:n-1) - 2*delta + d(2:n))./h.^2;\n",
    "\n",
    "%  Find subinterval indices k so that x(k) <= u < x(k+1)\n",
    "\n",
    "   k = ones(size(u));\n",
    "   for j = 2:n-1\n",
    "      k(x(j) <= u) = j;\n",
    "   end\n",
    "\n",
    "%  Evaluate interpolant\n",
    "\n",
    "   s = u - x(k);\n",
    "   v = y(k) + s.*(d(k) + s.*(c(k) + s.*b(k)));\n",
    "end\n",
    "\n",
    "% -------------------------------------------------------\n",
    "\n",
    "function d = pchipslopes(h,delta)\n",
    "%  PCHIPSLOPES  Slopes for shape-preserving Hermite cubic\n",
    "%  pchipslopes(h,delta) computes d(k) = P'(x(k)).\n",
    "\n",
    "%  Slopes at interior points\n",
    "%  delta = diff(y)./diff(x).\n",
    "%  d(k) = 0 if delta(k-1) and delta(k) have opposites\n",
    "%         signs or either is zero.\n",
    "%  d(k) = weighted harmonic mean of delta(k-1) and\n",
    "%         delta(k) if they have the same sign.\n",
    "\n",
    "   n = length(h)+1;\n",
    "   d = zeros(size(h));\n",
    "   k = find(sign(delta(1:n-2)).*sign(delta(2:n-1))>0)+1;\n",
    "   w1 = 2*h(k)+h(k-1);\n",
    "   w2 = h(k)+2*h(k-1);\n",
    "   d(k) = (w1+w2)./(w1./delta(k-1) + w2./delta(k));\n",
    "\n",
    "%  Slopes at endpoints\n",
    "\n",
    "   d(1) = pchipend(h(1),h(2),delta(1),delta(2));\n",
    "   d(n) = pchipend(h(n-1),h(n-2),delta(n-1),delta(n-2));\n",
    "end\n",
    "% -------------------------------------------------------\n",
    "\n",
    "function d = pchipend(h1,h2,del1,del2)\n",
    "%  Noncentered, shape-preserving, three-point formula.\n",
    "   d = ((2*h1+h2)*del1 - h1*del2)/(h1+h2);\n",
    "   if sign(d) ~= sign(del1)\n",
    "      d = 0;\n",
    "   elseif (sign(del1)~=sign(del2))&&(abs(d)>abs(3*del1))\n",
    "      d = 3*del1;\n",
    "   end\n",
    "end"
   ]
  },
  {
   "cell_type": "code",
   "execution_count": null,
   "metadata": {
    "collapsed": false,
    "deletable": true,
    "editable": true
   },
   "outputs": [],
   "source": [
    "plot(x, y, 'o', linspace(0.5,6.5), pchiptx(x,y,linspace(0.5,6.5)), '-')"
   ]
  },
  {
   "cell_type": "markdown",
   "metadata": {
    "deletable": true,
    "editable": true
   },
   "source": [
    "The shape-preserving cubic spline is \"visually pleasing\" and is particularly useful for graphics."
   ]
  },
  {
   "cell_type": "markdown",
   "metadata": {
    "deletable": true,
    "editable": true
   },
   "source": [
    "### Cubic Splines\n",
    "\n",
    "Another popular piecewise cubic interpolation is the *cubic spline*. It has continuous first and second derivative.\n",
    "\n",
    "Again, let $d_k$ denote the slope of the interpolant at $x_k$, which we will solve based on the continuity of the second derivative. On the $k$th subinterval, the second derivative is a linear function of $s = x - x_k$:\n",
    "$$P''(x) = \\frac{(6h_k-12s)\\delta_k + (6s - 2h_k)d_{k+1} + (6s - 4h_k)d_k}{h_k^2}.$$\n",
    "\n",
    "The one-sided derivative of $P''(x_k)$ in the $k$th subinterval is \n",
    "$$P''(x_k+) = \\frac{6\\delta_k - 2d_{k+1} - 4d_k}{h_k},$$\n",
    "and that in the $(k-1)$st subinterval is \n",
    "$$P''(x_k-) = \\frac{-6\\delta_{k-1} + 4d_{k} + 2d_{k-1}}{h_{k-1}}.$$\n",
    "Requiring $P''(x_k+) = P''(x_k-),$ we obtain the equation\n",
    "$$h_kd_{k - 1} + 2(h_{k - 1} + h_k)d_k + h_{k - 1}d_{k+1} = 3(h_k\\delta_{k - 1} + h_{k - 1}\\delta_k).$$\n",
    "\n",
    "This leads to $n - 2$ equations for the interior nodes $x_2, x_3, \\dots, x_{n-1}$. One can require subintervals $1$ and $2$ have the same polynomial, and the subintervals $n-2$ and $n-1$ have the same polynomial, respectively. This is known as the \"not-a-knot\" condition, since the nodes in splines are also called *knots*. This is leads to a tridiagonal linear system\n",
    "$$\n",
    "\\left[\\begin{array}{cccccc}\n",
    "h_{2} & h_{1}+h_{2}\\\\\n",
    "h_{2} & 2(h_{1}+h_{2}) & h_{1}\\\\\n",
    " & h_{3} & 2(h_{2}+h_{3}) & h_{2}\\\\\n",
    " &  & \\ddots & \\ddots & \\ddots\\\\\n",
    " &  &  & h_{n-1} & 2(h_{n-2}+h_{n-1}) & h_{n-2}\\\\\n",
    " &  &  &  & h_{n-2}+h_{n-1} & h_{n-2}\n",
    "\\end{array}\\right]\\left[\\begin{array}{c}\n",
    "d_{1}\\\\\n",
    "d_{2}\\\\\n",
    "d_{3}\\\\\n",
    "\\vdots\\\\\n",
    "d_{n-1}\\\\\n",
    "d_{n}\n",
    "\\end{array}\\right]=3\\left[\\begin{array}{c}\n",
    "r_{1}\\\\\n",
    "h_{2}\\delta_{1}+h_{1}\\delta_{2}\\\\\n",
    "h_{3}\\delta_{2}+h_{2}\\delta_{3}\\\\\n",
    "\\vdots\\\\\n",
    "h_{n-1}\\delta_{n-2}+h_{n-2}\\delta n_{1}\\\\\n",
    "r_{n}\n",
    "\\end{array}\\right],\n",
    "$$\n",
    "where $r_1$ and $r_2$ are associated with the end conditions.\n",
    "\n",
    "The following code gives the detail of the algorithm."
   ]
  },
  {
   "cell_type": "code",
   "execution_count": null,
   "metadata": {
    "collapsed": true,
    "deletable": true,
    "editable": true
   },
   "outputs": [],
   "source": [
    "function v = splinetx(x,y,u)\n",
    "%SPLINETX  Textbook spline function.\n",
    "%  v = splinetx(x,y,u) finds the piecewise cubic interpolatory\n",
    "%  spline S(x), with S(x(j)) = y(j), and returns v(k) = S(u(k)).\n",
    "%\n",
    "%  See SPLINE, PCHIPTX.\n",
    "\n",
    "%   Copyright 2014 Cleve Moler\n",
    "\n",
    "%  First derivatives\n",
    "\n",
    "   h = diff(x);\n",
    "   delta = diff(y)./h;\n",
    "   d = splineslopes(h,delta);\n",
    "\n",
    "%  Piecewise polynomial coefficients\n",
    "\n",
    "   n = length(x);\n",
    "   c = (3*delta - 2*d(1:n-1) - d(2:n))./h;\n",
    "   b = (d(1:n-1) - 2*delta + d(2:n))./h.^2;\n",
    "\n",
    "%  Find subinterval indices k so that x(k) <= u < x(k+1)\n",
    "\n",
    "   k = ones(size(u));\n",
    "   for j = 2:n-1\n",
    "      k(x(j) <= u) = j;\n",
    "   end\n",
    "\n",
    "%  Evaluate spline\n",
    "\n",
    "   s = u - x(k);\n",
    "   v = y(k) + s.*(d(k) + s.*(c(k) + s.*b(k)));\n",
    "end\n",
    "\n",
    "% -------------------------------------------------------\n",
    "\n",
    "function d = splineslopes(h,delta)\n",
    "%  SPLINESLOPES  Slopes for cubic spline interpolation.\n",
    "%  splineslopes(h,delta) computes d(k) = S'(x(k)).\n",
    "%  Uses not-a-knot end conditions.\n",
    "\n",
    "%  Diagonals of tridiagonal system\n",
    "\n",
    "   n = length(h)+1;\n",
    "   a = zeros(size(h)); b = a; c = a; r = a;\n",
    "   a(1:n-2) = h(2:n-1);\n",
    "   a(n-1) = h(n-2)+h(n-1);\n",
    "   b(1) = h(2);\n",
    "   b(2:n-1) = 2*(h(2:n-1)+h(1:n-2));\n",
    "   b(n) = h(n-2);\n",
    "   c(1) = h(1)+h(2);\n",
    "   c(2:n-1) = h(1:n-2);\n",
    "\n",
    "%  Right-hand side\n",
    "\n",
    "   r(1) = ((h(1)+2*c(1))*h(2)*delta(1)+ ...\n",
    "          h(1)^2*delta(2))/c(1);\n",
    "   r(2:n-1) = 3*(h(2:n-1).*delta(1:n-2)+ ...\n",
    "              h(1:n-2).*delta(2:n-1));\n",
    "   r(n) = (h(n-1)^2*delta(n-2)+ ...\n",
    "          (2*a(n-1)+h(n-1))*h(n-2)*delta(n-1))/a(n-1);\n",
    "\n",
    "%  Solve tridiagonal linear system\n",
    "\n",
    "   d = tridisolve(a,b,c,r);\n",
    "end\n",
    "\n",
    "function x = tridisolve(a,b,c,d)\n",
    "%   TRIDISOLVE  Solve tridiagonal system of equations.\n",
    "%     x = TRIDISOLVE(a,b,c,d) solves the system of linear equations\n",
    "%     b(1)*x(1) + c(1)*x(2) = d(1),\n",
    "%     a(j-1)*x(j-1) + b(j)*x(j) + c(j)*x(j+1) = d(j), j = 2:n-1,\n",
    "%     a(n-1)*x(n-1) + b(n)*x(n) = d(n).\n",
    "%\n",
    "%   The algorithm does not use pivoting, so the results might\n",
    "%   be inaccurate if abs(b) is much smaller than abs(a)+abs(c).\n",
    "%   More robust, but slower, alternatives with pivoting are:\n",
    "%     x = T\\d where T = diag(a,-1) + diag(b,0) + diag(c,1)\n",
    "%     x = S\\d where S = spdiags([[a; 0] b [0; c]],[-1 0 1],n,n)\n",
    "\n",
    "   x = d;\n",
    "   n = length(x);\n",
    "\n",
    "   for j = 1:n-1\n",
    "      mu = a(j)/b(j);\n",
    "      b(j+1) = b(j+1) - mu*c(j);\n",
    "      x(j+1) = x(j+1) - mu*x(j);\n",
    "   end\n",
    "\n",
    "   x(n) = x(n)/b(n);\n",
    "   for j = n-1:-1:1\n",
    "      x(j) = (x(j)-c(j)*x(j+1))/b(j);\n",
    "   end\n",
    "end"
   ]
  },
  {
   "cell_type": "code",
   "execution_count": null,
   "metadata": {
    "collapsed": false,
    "deletable": true,
    "editable": true
   },
   "outputs": [],
   "source": [
    "plot(x, y, 'o', linspace(0.5,6.5), splinetx(x,y,linspace(0.5,6.5)), '-')"
   ]
  },
  {
   "cell_type": "markdown",
   "metadata": {
    "deletable": true,
    "editable": true
   },
   "source": [
    "Cubic splines delivers better accuracy than the shape-preserving cubic interpolation."
   ]
  },
  {
   "cell_type": "markdown",
   "metadata": {
    "deletable": true,
    "editable": true
   },
   "source": [
    "Acknowledgment: The material in this Notebook was adapted from Chapter 3 of Numerical Computing with MATLAB by Cleve Moler, 2004."
   ]
  }
 ],
 "metadata": {
  "kernelspec": {
   "display_name": "Octave",
   "language": "octave",
   "name": "octave"
  },
  "language_info": {
   "file_extension": ".m",
   "help_links": [
    {
     "text": "GNU Octave",
     "url": "https://www.gnu.org/software/octave/support.html"
    },
    {
     "text": "Octave Kernel",
     "url": "https://github.com/Calysto/octave_kernel"
    },
    {
     "text": "MetaKernel Magics",
     "url": "https://github.com/calysto/metakernel/blob/master/metakernel/magics/README.md"
    }
   ],
   "mimetype": "text/x-octave",
   "name": "octave",
   "version": "4.0.0"
  },
  "latex_envs": {
   "LaTeX_envs_menu_present": true,
   "autocomplete": true,
   "bibliofile": "biblio.bib",
   "cite_by": "apalike",
   "current_citInitial": 1,
   "eqLabelWithNumbers": true,
   "eqNumInitial": 1,
   "hotkeys": {
    "equation": "Ctrl-E",
    "itemize": "Ctrl-I"
   },
   "labels_anchors": false,
   "latex_user_defs": false,
   "report_style_numbering": false,
   "user_envs_cfg": false
  }
 },
 "nbformat": 4,
 "nbformat_minor": 2
}
