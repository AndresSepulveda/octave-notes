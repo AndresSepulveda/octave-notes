{
 "cells": [
  {
   "cell_type": "markdown",
   "metadata": {
    "collapsed": true
   },
   "source": [
    "# Optimization\n",
    "\n",
    "The *optimization* problem is to find maxima and minima of an *objective function*. Optimization is often referred to as `minimization`, because maximization can be formulated as minimizing its negative value. \n",
    "\n",
    "Optimization is closely related to root finding: because at the minima the slope is zero for smooth functions. In general, this only find a local extremum.\n",
    "\n",
    "Learning objectives:\n",
    " - Golden section method\n",
    " - Successive parabolic interpolation\n",
    " - MATLAB function `fminbnd`"
   ]
  },
  {
   "cell_type": "markdown",
   "metadata": {},
   "source": [
    "## Golden Section Search\n",
    "\n",
    "The golden-section search for minimization is analogous to the bisection method for root finding. It starts with an interval with opposite signs of slopes, and repeatedly shrinks the interval until the length of interval is within some tolerance.\n",
    "\n",
    "<img src=\"https://drive.google.com/uc?export=download&id=0ByTwsK5_Tl_PTWgtXzRkczZTckk\" width=\"400\">\n",
    "<img src=\"https://drive.google.com/uc?export=download&id=0ByTwsK5_Tl_POVluTl84ZThQSjA\" width=\"280\">\n",
    "\n",
    "The following code implements the method."
   ]
  },
  {
   "cell_type": "code",
   "execution_count": 1,
   "metadata": {},
   "outputs": [],
   "source": [
    "function [x, k] = golden_section(f, a, b, tol)\n",
    "% GOLDEN_SECTION finds a minimum of f(x) within the interval [a,b]\n",
    "% using the golden-section search. It assumes f has negative slope \n",
    "% at a and positive slope at b.\n",
    "\n",
    "tau = (sqrt(5) - 1) / 2;\n",
    "x1 = a + (1 - tau) * (b - a); f1 = f(x1);\n",
    "x2 = a + tau * (b - a); f2 = f(x2);\n",
    "\n",
    "k = 0;\n",
    "while b-a > tol\n",
    "    if (f1 > f2)\n",
    "        a = x1; \n",
    "        x1 = x2;\n",
    "        f1 = f2;\n",
    "        x2 = a + tau * (b-a);\n",
    "        f2 = f(x2);\n",
    "    else\n",
    "        b = x2; \n",
    "        x2 = x1;\n",
    "        f2 = f1;\n",
    "        x1 = a + (1 - tau) * (b-a);\n",
    "        f1 = f(x1);\n",
    "    end\n",
    "    k = k + 1;\n",
    "end\n",
    "\n",
    "x = (a + b) / 2;\n",
    "end"
   ]
  },
  {
   "cell_type": "markdown",
   "metadata": {},
   "source": [
    "In MATLAB, you need to save the above function definition into an M-file named `golden_section.m`. \n",
    "\n",
    "To call `golden_section`, we can use [anonymous functions](https://www.mathworks.com/help/matlab/matlab_prog/anonymous-functions.html), which are similar to the [lambda functions in Python](https://docs.python.org/3/tutorial/controlflow.html#lambda-expressions)."
   ]
  },
  {
   "cell_type": "code",
   "execution_count": 2,
   "metadata": {},
   "outputs": [
    {
     "name": "stdout",
     "output_type": "stream",
     "text": [
      "x=0.3003756217409748 after 77 iterations, and f(x) is -96.50140856037187\n"
     ]
    },
    {
     "data": {
      "image/png": "[encoded data removed]",
      "text/plain": [
       "<IPython.core.display.Image object>"
      ]
     },
     "metadata": {},
     "output_type": "display_data"
    }
   ],
   "source": [
    "% We define an anonymous function\n",
    "f = @(x) -(1 ./ ((x-.3).^2 + .01) + 1 ./ ((x-.9).^2 + .04) - 6);\n",
    "\n",
    "[x, k] = golden_section(f, -1, 2, eps);\n",
    "fprintf('x=%.16g after %d iterations, and f(x) is %.16g\\n', x, k, f(x));\n",
    "\n",
    "xs = linspace(-1, 2);\n",
    "plot(xs, f(xs), '-', x, f(x), 'o')"
   ]
  },
  {
   "cell_type": "markdown",
   "metadata": {},
   "source": [
    "In the golden-section search, the length of the interval is reduced by about $38.2\\%$ each step. It is a slow but robust method."
   ]
  },
  {
   "cell_type": "markdown",
   "metadata": {},
   "source": [
    "## Successive Parabolic Interpolation\n",
    "\n",
    "The successive parabolic interpolation for minimization is analogous to the secant method to root finding. It uses three points to construct a quadratic interpolation.\n",
    "<img src=\"https://drive.google.com/uc?export=download&id=0ByTwsK5_Tl_PNVJicTNweWNFOWs\" width=\"400\">\n",
    "\n",
    "The following code illustrates the idea:"
   ]
  },
  {
   "cell_type": "code",
   "execution_count": 3,
   "metadata": {
    "collapsed": true
   },
   "outputs": [],
   "source": [
    "function [x, k] = spi(f, a, b, tol)\n",
    "% SPI minimizes f(x) using successive parabolic interpolation.\n",
    "\n",
    "maxiter = 100;\n",
    "\n",
    "xs = [a, (a+b)/2, b]; fx = f(xs);\n",
    "\n",
    "for k = 1:maxiter\n",
    "    p = polyfit(xs, fx, 2);\n",
    "    x = -0.5*p(2)/p(1);\n",
    "    \n",
    "    xs = [xs(2:end), x];\n",
    "    fx = [fx(2:end), f(x)];\n",
    "\n",
    "    if abs(xs(3)-xs(2)) < tol * abs(xs(2));\n",
    "        break\n",
    "    end\n",
    "end\n",
    "\n",
    "x = xs(end);\n",
    "end"
   ]
  },
  {
   "cell_type": "markdown",
   "metadata": {},
   "source": [
    "In MATLAB, you need to save the above function definition into an M-file named `spi.m`."
   ]
  },
  {
   "cell_type": "code",
   "execution_count": 4,
   "metadata": {},
   "outputs": [
    {
     "name": "stdout",
     "output_type": "stream",
     "text": [
      "x=0.6370089873583797 after 8 iterations, and f(x) is -11.25275412569616\n"
     ]
    },
    {
     "data": {
      "image/png": "[encoded data removed]",
      "text/plain": [
       "<IPython.core.display.Image object>"
      ]
     },
     "metadata": {},
     "output_type": "display_data"
    }
   ],
   "source": [
    "f = @(x) -(1 ./ ((x-.3).^2 + .01) + 1 ./ ((x-.9).^2 + .04) - 6);\n",
    "\n",
    "[x, k] = spi(f, 0, 0.7, 1.e-5);\n",
    "\n",
    "fprintf('x=%.16g after %d iterations, and f(x) is %.16g\\n', x, k, f(x));\n",
    "\n",
    "xs = linspace(-1, 2);\n",
    "plot(xs, f(xs), '-', x, f(x), 'o')"
   ]
  },
  {
   "cell_type": "markdown",
   "metadata": {},
   "source": [
    "Successive parabolic interpolation may not converge or may converge to some undesired value."
   ]
  },
  {
   "cell_type": "markdown",
   "metadata": {},
   "source": [
    "## Hybrid Method for Efficiency and Robustness\n",
    " \n",
    "The MATLAB function `fminbnd` combines the golden-section search and successive parabolic interpolation, analogous to the robust method `fzero` for root finding. This method was due to Richard Brent, and hence it is sometimes referred to as Brent's method. \n",
    "\n",
    "The following is a simplified implementation of `fminbnd`."
   ]
  },
  {
   "cell_type": "code",
   "execution_count": 5,
   "metadata": {},
   "outputs": [],
   "source": [
    "function u = fminbndtx(F,a,b,tol,varargin)\n",
    "%FMINBNDTX  Textbook version of FMINBND\n",
    "%   x = FMINBNDTX(F,a,b) finds a local minimizer x of the function F\n",
    "%   in the interval a <= x <= b. F accepts scalar input x and returns \n",
    "%   a scalar function value, F(x).\n",
    "%\n",
    "%   x = FMINBNDTX(F,a,b,tol) uses stopping tolerance tol instead of 1.e-6.\n",
    "%\n",
    "%   x = FMINBNDTX(F,a,b,tol,p1,p2,...) provides for additional\n",
    "%   arguments, which are passed to the objective function, F(x,p1,p2,...).\n",
    "%   (Use [] as a place holder for tol to get the default tolerance.)\n",
    "%\n",
    "%   Example\n",
    "%      x = fminbndtx(@cos,3,4)\n",
    "%      computes pi to six decimal places.\n",
    "%\n",
    "%   See also FMINBND, FMINSEARCH, FZERO, @, INLINE.\n",
    "\n",
    "%   Copyright 2014 Cleve Moler\n",
    "%   Copyright 2014 The MathWorks, Inc.\n",
    "%   Reference: \"Computer Methods for Mathematical Computations\",\n",
    "%   Forsythe, Malcolm, and Moler, Prentice-Hall, 1976.\n",
    "\n",
    "% Initialization\n",
    "\n",
    "if nargin < 4 | isempty(tol)\n",
    "   tol = 1.e-6; \n",
    "end\n",
    "\n",
    "phi = (1 + sqrt(5))/2;\n",
    "rho = 2 - phi;\n",
    "u = a + rho*(b-a);\n",
    "v = u; w = u; x = u;\n",
    "fu = F(u,varargin{:}); \n",
    "fv = fu; fw = fu; fx = fu;\n",
    "xm = 0.5*(a+b);\n",
    "d = 0.0;\n",
    "e = 0.0;\n",
    "\n",
    "% Main loop\n",
    "\n",
    "while abs(x-xm) > tol\n",
    "   % Is a parabolic fit possible?\n",
    "   para = abs(e) > tol;\n",
    "   if para\n",
    "      % Try parabolic fit.\n",
    "      r = (x-w)*(fx-fv);\n",
    "      q = (x-v)*(fx-fw);\n",
    "      p = (x-v)*q-(x-w)*r;\n",
    "      s = 2*(q-r);\n",
    "      if s > 0.0, p = -p; end\n",
    "      s = abs(s);\n",
    "      % Is the parabola acceptable?\n",
    "      para = ( (abs(p)<abs(0.5*s*e)) & (p>s*(a-x)) & (p<s*(b-x)) );\n",
    "      if para\n",
    "         % Parabolic interpolation step\n",
    "         e = d;\n",
    "         d = p/s;\n",
    "      end\n",
    "   end\n",
    "   if ~para\n",
    "      % Golden-section step\n",
    "      if x >= xm\n",
    "         e = a-x;\n",
    "      else\n",
    "         e = b-x;\n",
    "      end\n",
    "      d = rho*e;\n",
    "   end\n",
    "   \n",
    "   u = x + d;\n",
    "   fu = F(u,varargin{:});  \n",
    "   \n",
    "   % Update a, b, x, v, w, xm\n",
    "   if fu <= fx\n",
    "      if u >= x, a = x; else, b = x; end\n",
    "      v = w; fv = fw;\n",
    "      w = x; fw = fx;\n",
    "      x = u; fx = fu;\n",
    "   else\n",
    "      if u < x, a = u; else, b = u; end\n",
    "      if ( (fu <= fw) || (w == x) )\n",
    "         v = w; fv = fw;\n",
    "         w = u; fw = fu;\n",
    "      elseif ( (fu <= fv) || (v == x) || (v == w) )\n",
    "         v = u; fv = fu;\n",
    "      end\n",
    "   end\n",
    "   xm = 0.5*(a+b);\n",
    "end\n",
    "end"
   ]
  },
  {
   "cell_type": "markdown",
   "metadata": {},
   "source": [
    "In MATLAB, you need to save the above function definition into an M-file named `fminbndtx.m`."
   ]
  },
  {
   "cell_type": "code",
   "execution_count": 6,
   "metadata": {},
   "outputs": [
    {
     "data": {
      "image/png": "[encoded data removed]",
      "text/plain": [
       "<IPython.core.display.Image object>"
      ]
     },
     "metadata": {},
     "output_type": "display_data"
    }
   ],
   "source": [
    "x = fminbndtx(f, 0, 0.7, 1.e-5);\n",
    "\n",
    "xs = linspace(-1, 2);\n",
    "plot(xs, f(xs), '-', x, f(x), 'o')"
   ]
  },
  {
   "cell_type": "markdown",
   "metadata": {},
   "source": [
    "Acknowledgment: The material in this Notebook was adapted from Chapter 4 of Numerical Computing with MATLAB by Cleve Moler, 2004."
   ]
  }
 ],
 "metadata": {
  "kernelspec": {
   "display_name": "Octave",
   "language": "octave",
   "name": "octave"
  },
  "language_info": {
   "file_extension": ".m",
   "help_links": [
    {
     "text": "GNU Octave",
     "url": "https://www.gnu.org/software/octave/support.html"
    },
    {
     "text": "Octave Kernel",
     "url": "https://github.com/Calysto/octave_kernel"
    },
    {
     "text": "MetaKernel Magics",
     "url": "https://github.com/calysto/metakernel/blob/master/metakernel/magics/README.md"
    }
   ],
   "mimetype": "text/x-octave",
   "name": "octave",
   "version": "4.0.0"
  },
  "latex_envs": {
   "LaTeX_envs_menu_present": true,
   "autocomplete": true,
   "bibliofile": "biblio.bib",
   "cite_by": "apalike",
   "current_citInitial": 1,
   "eqLabelWithNumbers": true,
   "eqNumInitial": 1,
   "hotkeys": {
    "equation": "Ctrl-E",
    "itemize": "Ctrl-I"
   },
   "labels_anchors": false,
   "latex_user_defs": false,
   "report_style_numbering": false,
   "user_envs_cfg": false
  }
 },
 "nbformat": 4,
 "nbformat_minor": 2
}
