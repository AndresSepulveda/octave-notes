{
 "cells": [
  {
   "cell_type": "markdown",
   "metadata": {},
   "source": [
    "# Solving Linear Equations\n",
    "\n",
    "Learning objectives:\n",
    " - Matrix notation of linear systems\n",
    " - The backslash operator\n",
    " - Solving triangular systems\n",
    " - Intuitive understanding of LU with partial pivoting\n",
    " - Intuitive understanding of errors in solving linear equations\n",
    " - Efficiency and sparse systems"
   ]
  },
  {
   "cell_type": "code",
   "execution_count": 1,
   "metadata": {
    "collapsed": true
   },
   "outputs": [],
   "source": [
    "format long"
   ]
  },
  {
   "cell_type": "markdown",
   "metadata": {},
   "source": [
    "## Matrix Notation of Linear Systems\n",
    "\n",
    "With matrix notation, a system of simultaneous linear equations is written $Ax = b$. Typically, $A$ is a given square matrix of order $n$, $b$ is a given column vector of $n$ components, and $x$ is an unknown column vector of $n$ components.\n",
    "\n",
    "\n",
    "For example, to solve the following linear system with three unknowns\n",
    "$$\n",
    "\\begin{align*}\n",
    "10x_{1}\\text{−}7x_{2}&=7,\\\\\n",
    "\\text{−}3x_{1}+2x_{2}+6x_{3}&=4,\\\\\n",
    "5x_{1}\\text{−}x_{2}+5x_{3}&=6,\n",
    "\\end{align*}$$\n",
    "we can express it using the matrix format\n",
    "$$\\left[\\begin{array}{ccc}\n",
    "10 & -7 & 0\\\\\n",
    "-3 & 2 & 6\\\\\n",
    "5 & -1 & 5\n",
    "\\end{array}\\right]\\left[\\begin{array}{c}\n",
    "x_{1}\\\\\n",
    "x_{2}\\\\\n",
    "x_{3}\n",
    "\\end{array}\\right]=\\left[\\begin{array}{c}\n",
    "7\\\\\n",
    "4\\\\\n",
    "6\n",
    "\\end{array}\\right].$$\n",
    "\n",
    "\n",
    "The solution to $Ax = b$ can be expressed as $x = A^{−1}b$, where $A^{−1}$ is the inverse of $A$. "
   ]
  },
  {
   "cell_type": "code",
   "execution_count": 2,
   "metadata": {},
   "outputs": [
    {
     "name": "stdout",
     "output_type": "stream",
     "text": [
      "x =\n",
      "\n",
      "   0.000000000000000\n",
      "  -1.000000000000000\n",
      "   1.000000000000000\n",
      "\n"
     ]
    }
   ],
   "source": [
    "A = [10 -7 0; -3 2 6; 5 -1 5];\n",
    "b = [7 4 6]';\n",
    "x = inv(A) * b"
   ]
  },
  {
   "cell_type": "markdown",
   "metadata": {},
   "source": [
    "However, typically it is **unnecessary and inadvisable** to actually compute $A^{−1}$, because it is more expensive and less accurate.\n",
    "\n",
    "As a simple example, when solving $7x=21$ using single precision, it is more efficient and more accurate to compute $21\\div 7$:"
   ]
  },
  {
   "cell_type": "code",
   "execution_count": 3,
   "metadata": {},
   "outputs": [
    {
     "name": "stdout",
     "output_type": "stream",
     "text": [
      "x =  3\n"
     ]
    }
   ],
   "source": [
    "% Use single-precision to demonstrate the effect of accuracy\n",
    "x = single(21) / single(7)"
   ]
  },
  {
   "cell_type": "markdown",
   "metadata": {},
   "source": [
    "then computing $7^{-1}\\times 21$:"
   ]
  },
  {
   "cell_type": "code",
   "execution_count": 4,
   "metadata": {},
   "outputs": [
    {
     "name": "stdout",
     "output_type": "stream",
     "text": [
      "x =  3.00000023841858\n"
     ]
    }
   ],
   "source": [
    "% Use single-precision to demonstrate the effect of loss of accuracy\n",
    "x = single(1 / 7) * single(21)"
   ]
  },
  {
   "cell_type": "markdown",
   "metadata": {},
   "source": [
    "## The MATLAB Backslash Operator\n",
    "\n",
    "For convenience, MATLAB has introduced the notation using *backward slash* and *forward slash* operators, “\\” and “/”, to denote *left division* and *right division*, respectively.\n",
    "\n",
    "If $A$ is a matrix of any size and shape and $B$ is a matrix with as many rows as $A$, then the solution to the system of simultaneous equations \n",
    "$$AX=B$$ is denoted by \n",
    "$$X = A\\ \\backslash \\ B.$$\n",
    "This is a *left division*.\n",
    "\n",
    "Similarly, the solution to a system with $A$ on the right and $B$ with as many columns as $A$, then\n",
    "$$XA = B$$\n",
    "is obtained by *right division*,\n",
    "$$X = B\\ / \\ A.$$"
   ]
  },
  {
   "cell_type": "markdown",
   "metadata": {},
   "source": [
    "For the example above,\n",
    "$$\\left[\\begin{array}{ccc}\n",
    "10 & -7 & 0\\\\\n",
    "-3 & 2 & 6\\\\\n",
    "5 & -1 & 5\n",
    "\\end{array}\\right]\\left[\\begin{array}{c}\n",
    "x_{1}\\\\\n",
    "x_{2}\\\\\n",
    "x_{3}\n",
    "\\end{array}\\right]=\\left[\\begin{array}{c}\n",
    "7\\\\\n",
    "4\\\\\n",
    "6\n",
    "\\end{array}\\right],$$"
   ]
  },
  {
   "cell_type": "code",
   "execution_count": 5,
   "metadata": {
    "scrolled": true
   },
   "outputs": [
    {
     "name": "stdout",
     "output_type": "stream",
     "text": [
      "x =\n",
      "\n",
      "   0\n",
      "  -1\n",
      "   1\n",
      "\n"
     ]
    }
   ],
   "source": [
    "x = A \\ b"
   ]
  },
  {
   "cell_type": "markdown",
   "metadata": {},
   "source": [
    "The '\\' operator works like a black box. Internally, it uses Gaussian elimination to solve the problem."
   ]
  },
  {
   "cell_type": "markdown",
   "metadata": {},
   "source": [
    "# Triangular System\n",
    "\n",
    "The easiest linear systems involve triangular matrices. \n",
    "\n",
    "A lower triangular system is solved using forward solve (or forward elimination). For example, consider a lower-triangular system\n",
    "$$\\left[\\begin{array}{ccc}\n",
    "1 & 0 & 0\\\\\n",
    "0.5 & 1 & 0\\\\\n",
    "-0.3 & -0.04 & 1\n",
    "\\end{array}\\right]\\left[\\begin{array}{c}\n",
    "x_{1}\\\\\n",
    "x_{2}\\\\\n",
    "x_{3}\n",
    "\\end{array}\\right]=\\left[\\begin{array}{c}\n",
    "7\\\\\n",
    "6\\\\\n",
    "4\n",
    "\\end{array}\\right].$$\n",
    "We can solve it using the following MATLAB function."
   ]
  },
  {
   "cell_type": "code",
   "execution_count": 6,
   "metadata": {},
   "outputs": [],
   "source": [
    "function x = forward(L, x)\n",
    "% FORWARD. Forward elimination.\n",
    "% For lower triangular L, x = forward(L,b) solves L*x = b. \n",
    "\n",
    "    [n,n] = size(L);\n",
    "    for k = 1:n\n",
    "       j = 1:k-1;\n",
    "       x(k) = (x(k) - L(k,j)*x(j))/L(k,k);\n",
    "    end\n",
    "end"
   ]
  },
  {
   "cell_type": "markdown",
   "metadata": {},
   "source": [
    "Note: Octave allows defining a function directly in a script, so you could directly type the above code into an Octave environment or run it in Jupyter Notebook. However, in MATLAB functions must be defined in files, called M-files. You must save the above code into a file \"forward.m\" in order to call it.\n",
    "\n",
    "The for loop on $k$ contains an implicit loop on $j$:\n",
    "```\n",
    "for k = 1:n\n",
    "    for j = 1:k-1\n",
    "        x(k) = x(k) - L(k,j)*x(j);\n",
    "    end\n",
    "    x(k) = x(k) / L(k,k);\n",
    "end\n",
    "```"
   ]
  },
  {
   "cell_type": "code",
   "execution_count": 7,
   "metadata": {},
   "outputs": [
    {
     "name": "stdout",
     "output_type": "stream",
     "text": [
      "x =\n",
      "\n",
      "   7.00000000000000\n",
      "   2.50000000000000\n",
      "   6.20000000000000\n",
      "\n"
     ]
    }
   ],
   "source": [
    "L = [1 0 0; 0.5 1 0; -0.3 -0.04 1];\n",
    "b = [7 6 4]';\n",
    "x = forward(L, b)"
   ]
  },
  {
   "cell_type": "markdown",
   "metadata": {},
   "source": [
    "We can verify its result using backslash:"
   ]
  },
  {
   "cell_type": "code",
   "execution_count": 8,
   "metadata": {},
   "outputs": [
    {
     "name": "stdout",
     "output_type": "stream",
     "text": [
      "x =\n",
      "\n",
      "   7.00000000000000\n",
      "   2.50000000000000\n",
      "   6.20000000000000\n",
      "\n"
     ]
    }
   ],
   "source": [
    "x = L \\ b"
   ]
  },
  {
   "cell_type": "markdown",
   "metadata": {},
   "source": [
    "An upper-triangular system is solved using back substitution. For example, consider an upper-triangular system\n",
    "$$\\left[\\begin{array}{ccc}\n",
    "10 & -7 & 0\\\\\n",
    "0 & 2.5 & 5\\\\\n",
    "0 & 0 & 6.2\n",
    "\\end{array}\\right]\\left[\\begin{array}{c}\n",
    "x_{1}\\\\\n",
    "x_{2}\\\\\n",
    "x_{3}\n",
    "\\end{array}\\right]=\\left[\\begin{array}{c}\n",
    "7\\\\\n",
    "2.5\\\\\n",
    "6.2\n",
    "\\end{array}\\right].$$\n",
    "We can solve it using the following MATLAB function."
   ]
  },
  {
   "cell_type": "code",
   "execution_count": 9,
   "metadata": {
    "collapsed": true
   },
   "outputs": [],
   "source": [
    "function x = backsubs(U, x)\n",
    "% BACKSUBS. Back substitution.\n",
    "% For upper triangular U, x = backsubs(U,b) solves U*x = b. \n",
    "\n",
    "[n,n] = size(U);\n",
    "for k = n:-1:1\n",
    "    j = k+1:n;\n",
    "    x(k) = (x(k) - U(k,j)*x(j))/U(k,k);\n",
    "end\n",
    "end"
   ]
  },
  {
   "cell_type": "markdown",
   "metadata": {},
   "source": [
    "In MATLAB, you must save the above code into a file \"backsubs.m\" in order to call it.\n",
    "\n",
    "The for loop on $k$ contains an implicit loop on $j$:\n",
    "```\n",
    "for k = n:-1:1\n",
    "    for j = k+1:n\n",
    "        x(k) = x(k) - U(k,j)*x(j);\n",
    "    end\n",
    "    x(k) = x(k) / U(k,k);\n",
    "end\n",
    "```"
   ]
  },
  {
   "cell_type": "code",
   "execution_count": 10,
   "metadata": {},
   "outputs": [
    {
     "name": "stdout",
     "output_type": "stream",
     "text": [
      "x =\n",
      "\n",
      "   0\n",
      "  -1\n",
      "   1\n",
      "\n"
     ]
    }
   ],
   "source": [
    "U = [10 -7 0; 0 2.5 5; 0 0 6.2];\n",
    "y = [7 2.5 6.2]';\n",
    "x = backsubs(U, y)"
   ]
  },
  {
   "cell_type": "markdown",
   "metadata": {},
   "source": [
    "We can verify its result using backslash:"
   ]
  },
  {
   "cell_type": "code",
   "execution_count": 11,
   "metadata": {},
   "outputs": [
    {
     "name": "stdout",
     "output_type": "stream",
     "text": [
      "x =\n",
      "\n",
      "   0\n",
      "  -1\n",
      "   1\n",
      "\n"
     ]
    }
   ],
   "source": [
    "x = U \\ y"
   ]
  },
  {
   "cell_type": "markdown",
   "metadata": {},
   "source": [
    "## LU Factorization with Partial Pivoting\n",
    "\n",
    "For general square linear systems, the backslash operator first factorizes the matrix into the product of a lower triangular and an upper triangular matrix. In general, row interchanges are involved to avoid division by zero or near zero. \n",
    "\n",
    "This process is known as *LU factorization with partial pivoting*, which is equivalent to Gaussian elimination. It can be concisely expressed as \n",
    "$$PA = LU,$$\n",
    "where L is lower triangular, $U$ is upper triangular, and $P$ is a permutation matrix.\n",
    "\n",
    "A *permutation matrix* is an identity matrix with some rows and columns interchanged. It is often stored as a permutation vector. For example, $$P = \\left[\\begin{array}{cccc}\n",
    "0 & 0 & 0 & 1\\\\\n",
    "1 & 0 & 0 & 0\\\\\n",
    "0 & 0 & 1 & 0\\\\\n",
    "0 & 1 & 0 & 0\n",
    "\\end{array}\\right]$$\n",
    "\n",
    "it would be stored as $p=[4, 1, 3, 2]$."
   ]
  },
  {
   "cell_type": "markdown",
   "metadata": {},
   "source": [
    "For example, for \n",
    "$$A = \\left[\\begin{array}{ccc}\n",
    "10 & -7 & 0\\\\\n",
    "-3 & 2 & 6\\\\\n",
    "5 & -1 & 5\n",
    "\\end{array}\\right],$$\n",
    "we have \n",
    "\n",
    "$$L = \\left[\\begin{array}{ccc}\n",
    "1 & 0 & 0\\\\\n",
    "0.5 & 1 & 0\\\\\n",
    "-0.3 & -0.04 & 1\n",
    "\\end{array}\\right],\\ \n",
    "U = \\left[\\begin{array}{ccc}\n",
    "10 & -7 & 0\\\\\n",
    "0 & 2.5 & 5\\\\\n",
    "0 & 0 & 6.2\n",
    "\\end{array}\\right], \\mbox{ and }\n",
    "P = \\left[\\begin{array}{ccc}\n",
    "1 & 0 & 0\\\\\n",
    "0 & 0 & 1\\\\\n",
    "0 & 1 & 0\n",
    "\\end{array}\\right].\n",
    "$$\n",
    "\n",
    "The algorithm of LU with partial pivoting works as follows:"
   ]
  },
  {
   "cell_type": "code",
   "execution_count": 12,
   "metadata": {
    "collapsed": true
   },
   "outputs": [],
   "source": [
    "function [L,U,p] = lutx(A)\n",
    "%LUTX  Triangular factorization, textbook version\n",
    "%   [L,U,p] = lutx(A) produces a unit lower triangular matrix L,\n",
    "%   an upper triangular matrix U, and a permutation vector p,\n",
    "%   so that L*U = A(p,:)\n",
    "%\n",
    "%   Copyright 2014 Cleve Moler\n",
    "\n",
    "[n,n] = size(A);\n",
    "p = (1:n)';\n",
    "\n",
    "for k = 1:n-1\n",
    "\n",
    "   % Find index of largest element below diagonal in k-th column\n",
    "   [r,m] = max(abs(A(k:n,k)));\n",
    "   m = m+k-1;\n",
    "\n",
    "   % Skip elimination if column is zero\n",
    "   if (A(m,k) ~= 0)\n",
    "\n",
    "      % Swap pivot row\n",
    "      if (m ~= k)\n",
    "         A([k m],:) = A([m k],:);\n",
    "         p([k m]) = p([m k]);\n",
    "      end\n",
    "\n",
    "      % Compute multipliers\n",
    "      i = k+1:n;\n",
    "      A(i,k) = A(i,k)/A(k,k);\n",
    "\n",
    "      % Update the remainder of the matrix\n",
    "      j = k+1:n;\n",
    "      A(i,j) = A(i,j) - A(i,k)*A(k,j);\n",
    "   end\n",
    "end\n",
    "\n",
    "% Separate result\n",
    "L = tril(A,-1) + eye(n,n);\n",
    "U = triu(A);\n",
    "end"
   ]
  },
  {
   "cell_type": "markdown",
   "metadata": {},
   "source": [
    "In MATLAB, you need to save the above code into a file \"lutx.m\" in order to call it.\n",
    "\n",
    "You can use the MATLAB command `lugui` from [NCM](https://www.mathworks.com/matlabcentral/fileexchange/37976-numerical-computing-with-matlab) to see how the algorithm works in action.\n",
    "\n",
    "The backslash operator essentially performs the following operations:\n",
    " 1. compute LU factorization $PA = LU$;\n",
    " 2. solve $Ly =Pb$ using forward elimination;\n",
    " 3. solve $Ux =y$ using back substitution.\n",
    " \n",
    "However, the backslash operator uses well optimized code, and it is orders of magnitude faster than the MATLAB implementation here."
   ]
  },
  {
   "cell_type": "code",
   "execution_count": 13,
   "metadata": {
    "collapsed": true
   },
   "outputs": [],
   "source": [
    "function x = bslashtx(A, b)\n",
    "% Triangular factorization\n",
    "[L,U,p] = lutx(A);\n",
    "% Permutation and forward elimination\n",
    "y = forward(L,b(p));\n",
    "% Back substitution\n",
    "x = backsubs(U,y);\n",
    "end"
   ]
  },
  {
   "cell_type": "markdown",
   "metadata": {},
   "source": [
    "For the example above, we can solve the linear system as follows:"
   ]
  },
  {
   "cell_type": "code",
   "execution_count": 14,
   "metadata": {},
   "outputs": [
    {
     "name": "stdout",
     "output_type": "stream",
     "text": [
      "x =\n",
      "\n",
      "   0\n",
      "  -1\n",
      "   1\n",
      "\n"
     ]
    }
   ],
   "source": [
    "A = [10 -7 0; -3 2 6; 5 -1 5];\n",
    "b = [7 4 6]';\n",
    "\n",
    "x = bslashtx(A, b)"
   ]
  },
  {
   "cell_type": "markdown",
   "metadata": {},
   "source": [
    "## Residual and Error\n",
    "\n",
    "When using floating-point numbers, the solution is not exact due to rounding errors.\n",
    "\n",
    "Given $Ax = b$, let $x_*$ denote the exact solution, and $x$ denote the numerical solution. The *error* is defined as \n",
    "$$e = x - x_*,$$\n",
    "and the *residual* is defined as \n",
    "$$r = b - Ax.$$\n",
    "\n",
    "Both $e$ and $r$ are vectors.\n",
    "\n",
    "*Gaussian elimination with partial pivoting is guaranteed to produce **small residuals**.*\n",
    "\n",
    "When $A$ is singular, the linear equation does not have a unique solution. When $A$ is nearly singular, the solution may be sensitive to rounding errors, and hence the error may be large."
   ]
  },
  {
   "cell_type": "code",
   "execution_count": 15,
   "metadata": {},
   "outputs": [
    {
     "name": "stdout",
     "output_type": "stream",
     "text": [
      "For n= 3, the max-error is 1.11022e-16 and the max-residual is 0\n",
      "For n= 4, the max-error is 4.23439e-13 and the max-residual is 1.11022e-16\n",
      "For n= 5, the max-error is 5.12923e-12 and the max-residual is 0\n",
      "For n= 6, the max-error is 5.4048e-10 and the max-residual is 2.22045e-16\n",
      "For n= 7, the max-error is 1.73707e-08 and the max-residual is 2.22045e-16\n",
      "For n= 8, the max-error is 5.07498e-07 and the max-residual is 2.22045e-16\n",
      "For n= 9, the max-error is 7.15542e-06 and the max-residual is 2.22045e-16\n",
      "For n=10, the max-error is 0.000337313 and the max-residual is 2.22045e-16\n"
     ]
    }
   ],
   "source": [
    "N = 10;\n",
    "\n",
    "err = zeros(N, 1);\n",
    "res = zeros(N, 1);\n",
    "\n",
    "% Perform timing use a series of test matrices\n",
    "for n=3:N\n",
    "    A = hilb(n);\n",
    "    b = A*ones(n,1);\n",
    "\n",
    "    x = A \\ b;\n",
    "    \n",
    "    err(n) = max(abs(x - ones(n,1)));\n",
    "    res(n) = max(abs(b - A * x));    \n",
    "    \n",
    "    fprintf('For n=%2d, the max-error is %g ', n, err(n));\n",
    "    fprintf('and the max-residual is %g\\n', res(n));\n",
    "end"
   ]
  },
  {
   "cell_type": "markdown",
   "metadata": {},
   "source": [
    "## Norm and Condition Number\n",
    "\n",
    "For vectors, the *norm* is the \"length\" of the vector. The Euclidean norm (or 2-norm) is exactly the Euclidean length of a vector:\n",
    "$$\\Vert x \\Vert \\equiv \\sqrt{\\sum_i x_i^2}.$$\n",
    "\n",
    "It is equal to the Euclidean distance from the origin to the point $x$ in $\\mathbb{R}^n$.\n",
    "\n",
    "<!--img src=\"https://mathsimulationtechnology.files.wordpress.com/2012/02/la_r2vector_length.jpg\" alt=\"Euclidean distance\" height=\"300\" width=\"300\"-->\n",
    "\n",
    "More generally, the $p$-norm for $1\\leq p \\leq \\infty$ of a column vector is defined as \n",
    "$$\\Vert x \\Vert_p \\equiv \\sqrt[p]{\\sum_i \\vert x_i\\vert ^p}.$$\n",
    "\n",
    "When $p=\\infty$, the infinity-norm is $\\Vert x \\Vert_\\infty = \\max\\{\\vert x_i\\vert\\}.$\n",
    "\n",
    "<!--img src=\"https://image.slidesharecdn.com/cs445linearalgebraandmatlabtutorial-150831010550-lva1-app6891/95/linear-algebra-and-matlab-tutorial-16-638.jpg\" alt=\"Unit circles in different norms\"-->"
   ]
  },
  {
   "cell_type": "markdown",
   "metadata": {},
   "source": [
    "The sensitivity of a matrix is measured by its *condition number*. Intuitively, the condition number in $p$ norm is equal to the ratio of the *maximum magnification factor* of $A$ versus the *minimum magnification factor* of $A$ in $p$-norm, i.e.,\n",
    "$$\\kappa_p(A) = \n",
    "\\frac{\\max_{x\\not= 0}\\Vert A x\\Vert_p / \\Vert x\\Vert_p}{\\min_{x\\not= 0}\\Vert A x\\Vert_p / \\Vert x\\Vert_p}.$$\n",
    "\n",
    "<!--img src=\"http://mechanicaldesign.asmedigitalcollection.asme.org/data/journals/jmdedb/929508/md_136_03_031001_f001.png\" alt=\"Stretching factor\" width=\"500\"-->\n",
    "\n",
    "A system is *well-conditioned* if the condition number is close to 1, and it is *ill-conditioned* if the condition number is large (relative to the reciprocal of the squared root of machine epsilon).\n",
    "\n",
    "For linear systems, $\\kappa_p(A)\\Vert r\\Vert_p$ is an upper bound of the $\\Vert e\\Vert_p$. It is in general a good qualitative estimation of $\\Vert e\\Vert_p$."
   ]
  },
  {
   "cell_type": "code",
   "execution_count": 16,
   "metadata": {},
   "outputs": [
    {
     "name": "stdout",
     "output_type": "stream",
     "text": [
      "warning: axis: omitting non-positive data in log plot\n",
      "warning: called from\n",
      "    __line__ at line 120 column 16\n",
      "    line at line 56 column 8\n",
      "    __plt__>__plt2vv__ at line 500 column 10\n",
      "    __plt__>__plt2__ at line 246 column 14\n",
      "    __plt__ at line 113 column 17\n",
      "    semilogy at line 60 column 10\n",
      "warning: axis: omitting non-positive data in log plot\n"
     ]
    },
    {
     "data": {
      "image/png": "[encoded data removed]",
      "text/plain": [
       "<IPython.core.display.Image object>"
      ]
     },
     "metadata": {},
     "output_type": "display_data"
    }
   ],
   "source": [
    "kappa = zeros(N, 1);\n",
    "\n",
    "% Perform timing use a series of test matrices\n",
    "for n=3:N\n",
    "    kappa(n) = cond(hilb(n), inf);\n",
    "end\n",
    "\n",
    "ns = 3:N;\n",
    "semilogy(ns, kappa(ns).*res(ns), 'b-o', ns, err(ns), 'r--')\n",
    "xlabel('problem size')\n",
    "ylabel('error')\n",
    "legend('estimated', 'actual', 'Location', 'NorthWest')"
   ]
  },
  {
   "cell_type": "markdown",
   "metadata": {},
   "source": [
    "For well-conditioned linear systems, Gaussian elimination with partial pivoting is guaranteed to produce **small errors**."
   ]
  },
  {
   "cell_type": "markdown",
   "metadata": {},
   "source": [
    "## Efficiency\n",
    "\n",
    "For $n$-by-$n$ linear systems, LU factorization requires about $\\frac{2}{3}n^3$ floating point operations for large $n$.\n",
    "\n",
    "This means that if the number of unknowns grow by a factor of 2, then the computational cost will grow by a factor of 8. Therefore, it is impractical to solve very large problems using LU.\n",
    "\n",
    "<!--It will take about 26 years to solve a problem with 1 billion unknowns on the world's fastest computer as of 2016.-->\n",
    "\n",
    "In MATLAB, we can use tic-toc commands to perform timing."
   ]
  },
  {
   "cell_type": "code",
   "execution_count": 17,
   "metadata": {},
   "outputs": [
    {
     "name": "stdout",
     "output_type": "stream",
     "text": [
      "n=   32: it took   0.026783 seconds\n",
      "n=   64: it took  0.0637879 seconds\n",
      "n=  128: it took 0.000421047 seconds\n",
      "n=  256: it took 0.00198388 seconds\n",
      "n=  512: it took 0.00759792 seconds\n",
      "n= 1024: it took  0.0300422 seconds\n",
      "n= 2048: it took   0.127766 seconds\n",
      "n= 4096: it took   0.751156 seconds\n",
      "\n",
      "Restarting kernel...\n",
      "Done!\n"
     ]
    },
    {
     "name": "stderr",
     "output_type": "stream",
     "text": [
      "\u001b[0;31m[Errno 9] Bad file descriptor\n",
      "\u001b[0m"
     ]
    }
   ],
   "source": [
    "N = 10;\n",
    "ns = 2.^(1:N) * 16;\n",
    "times = zeros(N, 1);\n",
    "\n",
    "% Perform timing use a series of test matrices\n",
    "for i=1:N\n",
    "    n = ns(i);\n",
    "    A = gallery('chebspec', n, 1);\n",
    "    b = ones(n,1);\n",
    "\n",
    "    tic;\n",
    "    x = A \\ b;\n",
    "    times(i) = toc;\n",
    "\n",
    "    fprintf('n=%5d: it took %10g seconds\\n', n, times(i));\n",
    "end"
   ]
  },
  {
   "cell_type": "code",
   "execution_count": null,
   "metadata": {},
   "outputs": [],
   "source": [
    "loglog(ns, times, 'b-o', ns, 1.e-11*ns.^3, 'r--')\n",
    "xlabel('problem size')\n",
    "ylabel('seconds')\n",
    "legend('numerical', 'reference', 'Location', 'NorthWest')"
   ]
  },
  {
   "cell_type": "markdown",
   "metadata": {},
   "source": [
    "Efficiency can be improved by taking advantage of the special structures of the matrix, for example, symmetry ($A=A^T$) and sparsity."
   ]
  },
  {
   "cell_type": "markdown",
   "metadata": {},
   "source": [
    "## Sparse Matrices and Band Matrices\n",
    "\n",
    "Sparse matrices and band matrices occur frequently in technical computing. The sparsity of a matrix is the fraction of its elements that are zero. The MATLAB function nnz counts the number of nonzeros in a matrix, so the sparsity of $A$ is given by\n",
    "```\n",
    "   density  = nnz(A)/prod(size(A))\n",
    "   sparsity = 1 - density\n",
    "```\n",
    "A sparse matrix is a matrix whose sparsity is nearly equal to 1. When a matrix is sparse, we can store only the nonzero values and their indices, and skip computations involving multiplication with zeros. This can lead to better efficiency for very larse and sparse matrices.\n",
    "\n",
    "In MATLAB, a sparse matrix uses a special format, which is created using the [`sparse`](https://www.mathworks.com/help/matlab/ref/sparse.html) function. When the backslash operator is applied to a sparse matrix, a special sparse solver will be used.\n",
    "\n",
    "The bandwidth of a matrix is the maximum distance of the nonzero elements from the main diagonal.\n",
    "```\n",
    "   [i,j] = find(A)\n",
    "   bandwidth = max(abs(i-j))\n",
    "```\n",
    "A band matrix is a matrix whose bandwidth is small. The following is an example of a tridiagonal matrix, with bandwidth 3."
   ]
  },
  {
   "cell_type": "code",
   "execution_count": null,
   "metadata": {},
   "outputs": [],
   "source": [
    "A = gallery('tridiag',20);\n",
    "typeinfo(A)\n",
    "spy(A)"
   ]
  },
  {
   "cell_type": "markdown",
   "metadata": {},
   "source": [
    "If the bandwidth is a constant independent of $n$, then by taking advantage of sparsity, Gaussian elimination with partial pivoting requires only linear time in $n$."
   ]
  },
  {
   "cell_type": "code",
   "execution_count": null,
   "metadata": {},
   "outputs": [],
   "source": [
    "N = 10;\n",
    "ns = 2.^(1:N) * 8;\n",
    "times_sparse = zeros(N, 1);\n",
    "times_dense = zeros(N, 1);\n",
    "\n",
    "% Perform timing use a series of test matrices\n",
    "for i=1:N\n",
    "    n = ns(i);\n",
    "    A = gallery('tridiag',n);\n",
    "    b = ones(n,1);\n",
    "\n",
    "    % Solver using a sparse solver\n",
    "    tic; x = A \\ b; times_sparse(i) = toc;\n",
    "\n",
    "    % Solver using dense solver\n",
    "    tic; x = full(A) \\ b; times_dense(i) = toc;\n",
    "end\n",
    "\n",
    "loglog(ns, times_sparse, 'b-o', ns, times_dense, 'r--')\n",
    "xlabel('problem size')\n",
    "ylabel('seconds')\n",
    "legend('sparse', 'dense', 'Location', 'NorthWest')"
   ]
  },
  {
   "cell_type": "markdown",
   "metadata": {},
   "source": [
    "The following is an example of a sparse matrix from discretizing the Poisson equation on a 2-D grid."
   ]
  },
  {
   "cell_type": "code",
   "execution_count": null,
   "metadata": {},
   "outputs": [],
   "source": [
    "A = gallery('poisson',5);\n",
    "typeinfo(A)\n",
    "spy(A)"
   ]
  },
  {
   "cell_type": "markdown",
   "metadata": {},
   "source": [
    "For more general sparse matrices, the time complexity is superlinear, but in general is lower than cubic. Therefore, it is important to take advantage of sparsity."
   ]
  },
  {
   "cell_type": "code",
   "execution_count": null,
   "metadata": {},
   "outputs": [],
   "source": [
    "N = 4;\n",
    "ns = 2.^(1:N) * 4;\n",
    "times_sparse = zeros(N, 1);\n",
    "times_dense = zeros(N, 1);\n",
    "\n",
    "% Perform timing use a series of test matrices\n",
    "for i=1:N\n",
    "    n = ns(i);\n",
    "    A = gallery('poisson', n);\n",
    "    b = ones(n*n, 1);\n",
    "\n",
    "    % Solver using a sparse solver\n",
    "    tic; x = A \\ b; times_sparse(i) = toc;\n",
    "\n",
    "    % Solver using dense solver\n",
    "    tic; x = full(A) \\ b; times_dense(i) = toc;\n",
    "end\n",
    "\n",
    "loglog(ns.^2, times_sparse, 'b-o', ns.^2, times_dense, 'r--')\n",
    "xlabel('problem size')\n",
    "ylabel('seconds')\n",
    "legend('sparse', 'dense', 'Location', 'NorthWest')"
   ]
  },
  {
   "cell_type": "markdown",
   "metadata": {},
   "source": [
    "Acknowledgment: The material in this Notebook was adapted from Chapter 2 of Numerical Computing with MATLAB by Cleve Moler, 2004."
   ]
  }
 ],
 "metadata": {
  "kernelspec": {
   "display_name": "Octave",
   "language": "octave",
   "name": "octave"
  },
  "language_info": {
   "file_extension": ".m",
   "help_links": [
    {
     "text": "GNU Octave",
     "url": "https://www.gnu.org/software/octave/support.html"
    },
    {
     "text": "Octave Kernel",
     "url": "https://github.com/Calysto/octave_kernel"
    },
    {
     "text": "MetaKernel Magics",
     "url": "https://github.com/calysto/metakernel/blob/master/metakernel/magics/README.md"
    }
   ],
   "mimetype": "text/x-octave",
   "name": "octave",
   "version": "4.0.0"
  },
  "latex_envs": {
   "LaTeX_envs_menu_present": true,
   "autocomplete": true,
   "bibliofile": "biblio.bib",
   "cite_by": "apalike",
   "current_citInitial": 1,
   "eqLabelWithNumbers": true,
   "eqNumInitial": 1,
   "hotkeys": {
    "equation": "Ctrl-E",
    "itemize": "Ctrl-I"
   },
   "labels_anchors": false,
   "latex_user_defs": false,
   "report_style_numbering": false,
   "user_envs_cfg": false
  }
 },
 "nbformat": 4,
 "nbformat_minor": 2
}
